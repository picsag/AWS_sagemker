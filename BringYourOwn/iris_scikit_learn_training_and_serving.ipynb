{
 "cells": [
  {
   "cell_type": "markdown",
   "metadata": {},
   "source": [
    "# Iris Training and Prediction with Sagemaker Scikit-learn\n",
    "### Modified Version of AWS Example:\n",
    "https://github.com/awslabs/amazon-sagemaker-examples/blob/master/sagemaker-python-sdk/scikit_learn_iris/Scikit-learn%20Estimator%20Example%20With%20Batch%20Transform.ipynb  \n",
    "\n",
    "Following modifications were made:  \n",
    "1. Incorporated scripts for local mode hosting  \n",
    "2. Added Train and Test Channels  \n",
    "3. Visualize results (confusion matrix and reports)  \n",
    "4. Added steps to deploy using model artifacts stored in S3  \n",
    "  \n",
    "Following Script changes were made:  \n",
    "1. RandomForest Algorithm\n",
    "2. Refactored script to follow the template provided in tensorflow example:\n",
    "https://github.com/awslabs/amazon-sagemaker-examples/blob/master/sagemaker-python-sdk/tensorflow_script_mode_training_and_serving/tensorflow_script_mode_training_and_serving.ipynb\n",
    "\n",
    "\n",
    "This tutorial shows you how to use [Scikit-learn](https://scikit-learn.org/stable/) with Sagemaker by utilizing the pre-built container. Scikit-learn is a popular Python machine learning framework. It includes a number of different algorithms for classification, regression, clustering, dimensionality reduction, and data/feature pre-processing. \n",
    "\n",
    "The [sagemaker-python-sdk](https://github.com/aws/sagemaker-python-sdk) module  makes it easy to take existing scikit-learn code, which we will show by training a model on the IRIS dataset and generating a set of predictions. For more information about the Scikit-learn container, see the [sagemaker-scikit-learn-containers](https://github.com/aws/sagemaker-scikit-learn-container) repository and the [sagemaker-python-sdk](https://github.com/aws/sagemaker-python-sdk) repository.\n",
    "\n",
    "For more on Scikit-learn, please visit the Scikit-learn website: <http://scikit-learn.org/stable/>.\n",
    "\n",
    "### Table of contents\n",
    "* [Upload the data for training](#upload_data)\n",
    "* [Create a Scikit-learn script to train with](#create_sklearn_script)\n",
    "* [Create the SageMaker Scikit Estimator](#create_sklearn_estimator)\n",
    "* [Train the SKLearn Estimator on the Iris data](#train_sklearn)\n",
    "* [Using the trained model to make inference requests](#inferece)\n",
    " * [Deploy the model](#deploy)\n",
    " * [Choose some data and use it for a prediction](#prediction_request)\n",
    " * [Endpoint cleanup](#endpoint_cleanup)\n",
    "* [Batch Transform](#batch_transform)\n",
    " * [Prepare Input Data](#prepare_input_data)\n",
    " * [Run Transform Job](#run_transform_job)\n",
    " * [Check Output Data](#check_output_data)"
   ]
  },
  {
   "cell_type": "markdown",
   "metadata": {},
   "source": [
    "First, lets create our Sagemaker session and role, and create a S3 prefix to use for the notebook example."
   ]
  },
  {
   "cell_type": "markdown",
   "metadata": {},
   "source": [
    "### Local Mode Execution - requires docker compose configured\n",
    "### The below setup script is from AWS SageMaker Python SDK Examples : tf-eager-sm-scriptmode.ipynb"
   ]
  },
  {
   "cell_type": "code",
   "execution_count": 8,
   "metadata": {},
   "outputs": [
    {
     "name": "stdout",
     "output_type": "stream",
     "text": [
      "SageMaker instance route table setup is ok. We are good to go.\r\n",
      "SageMaker instance routing for Docker is ok. We are good to go!\r\n"
     ]
    }
   ],
   "source": [
    "!/bin/bash ./setup.sh"
   ]
  },
  {
   "cell_type": "code",
   "execution_count": 9,
   "metadata": {},
   "outputs": [],
   "source": [
    "import os\n",
    "import sys\n",
    "import sagemaker\n",
    "from sagemaker import get_execution_role\n",
    "import pandas as pd\n",
    "import numpy as np\n",
    "\n",
    "import matplotlib.pyplot as plt\n",
    "import itertools\n",
    "\n",
    "from sklearn import preprocessing\n",
    "from sklearn.metrics import classification_report, confusion_matrix\n",
    "\n",
    "# SageMaker SKLearn Estimator\n",
    "from sagemaker.sklearn.estimator import SKLearn\n",
    "\n",
    "sagemaker_session = sagemaker.Session()\n",
    "\n",
    "role = get_execution_role()\n",
    "region = sagemaker_session.boto_session.region_name"
   ]
  },
  {
   "cell_type": "markdown",
   "metadata": {},
   "source": [
    "## Training Data"
   ]
  },
  {
   "cell_type": "code",
   "execution_count": 10,
   "metadata": {},
   "outputs": [],
   "source": [
    "column_list_file = '../data/iris/iris_train_column_list.txt'\n",
    "train_file = '../data/iris/iris_train.csv'\n",
    "test_file = '../data/iris/iris_validation.csv'\n",
    "\n",
    "columns = ''\n",
    "with open(column_list_file,'r') as f:\n",
    "    columns = f.read().split(',')"
   ]
  },
  {
   "cell_type": "code",
   "execution_count": 11,
   "metadata": {},
   "outputs": [],
   "source": [
    "# Specify your bucket name\n",
    "bucket_name = 'radcv-ml-sagemaker'\n",
    "\n",
    "training_folder = r'iris/train'\n",
    "test_folder = r'iris/test'\n",
    "model_folder = r'iris/model/'\n",
    "\n",
    "training_data_uri = r's3://' + bucket_name + r'/' + training_folder\n",
    "testing_data_uri = r's3://' + bucket_name + r'/' + test_folder\n",
    "model_data_uri = r's3://' + bucket_name + r'/' + model_folder"
   ]
  },
  {
   "cell_type": "code",
   "execution_count": 12,
   "metadata": {},
   "outputs": [
    {
     "data": {
      "text/plain": [
       "('s3://radcv-ml-sagemaker/iris/train',\n",
       " 's3://radcv-ml-sagemaker/iris/test',\n",
       " 's3://radcv-ml-sagemaker/iris/model/')"
      ]
     },
     "execution_count": 12,
     "metadata": {},
     "output_type": "execute_result"
    }
   ],
   "source": [
    "training_data_uri,testing_data_uri,model_data_uri"
   ]
  },
  {
   "cell_type": "code",
   "execution_count": 13,
   "metadata": {},
   "outputs": [
    {
     "data": {
      "text/plain": [
       "'s3://radcv-ml-sagemaker/iris/train/iris_train.csv'"
      ]
     },
     "execution_count": 13,
     "metadata": {},
     "output_type": "execute_result"
    }
   ],
   "source": [
    "sagemaker_session.upload_data(train_file,\n",
    "                              bucket=bucket_name, \n",
    "                              key_prefix=training_folder)"
   ]
  },
  {
   "cell_type": "code",
   "execution_count": 14,
   "metadata": {},
   "outputs": [
    {
     "data": {
      "text/plain": [
       "'s3://radcv-ml-sagemaker/iris/test/iris_validation.csv'"
      ]
     },
     "execution_count": 14,
     "metadata": {},
     "output_type": "execute_result"
    }
   ],
   "source": [
    "sagemaker_session.upload_data(test_file, \n",
    "                              bucket=bucket_name, \n",
    "                              key_prefix=test_folder)"
   ]
  },
  {
   "cell_type": "markdown",
   "metadata": {},
   "source": [
    "Once we have the data locally, we can use use the tools provided by the SageMaker Python SDK to upload the data to a default bucket. "
   ]
  },
  {
   "cell_type": "markdown",
   "metadata": {},
   "source": [
    "## Create a Scikit-learn script to train with <a class=\"anchor\" id=\"create_sklearn_script\"></a>\n",
    "SageMaker can now run a scikit-learn script using the `SKLearn` estimator. When executed on SageMaker a number of helpful environment variables are available to access properties of the training environment, such as:\n",
    "\n",
    "* `SM_MODEL_DIR`: A string representing the path to the directory to write model artifacts to. Any artifacts saved in this folder are uploaded to S3 for model hosting after the training job completes.\n",
    "* `SM_OUTPUT_DIR`: A string representing the filesystem path to write output artifacts to. Output artifacts may include checkpoints, graphs, and other files to save, not including model artifacts. These artifacts are compressed and uploaded to S3 to the same S3 prefix as the model artifacts.\n",
    "\n",
    "Supposing two input channels, 'train' and 'test', were used in the call to the `SKLearn` estimator's `fit()` method, the following environment variables will be set, following the format `SM_CHANNEL_[channel_name]`:\n",
    "\n",
    "* `SM_CHANNEL_TRAIN`: A string representing the path to the directory containing data in the 'train' channel\n",
    "* `SM_CHANNEL_TEST`: Same as above, but for the 'test' channel.\n",
    "\n",
    "A typical training script loads data from the input channels, configures training with hyperparameters, trains a model, and saves a model to model_dir so that it can be hosted later. Hyperparameters are passed to your script as arguments and can be retrieved with an `argparse.ArgumentParser` instance. For example, the script that we will run in this notebook is the below:"
   ]
  },
  {
   "cell_type": "code",
   "execution_count": 16,
   "metadata": {},
   "outputs": [
    {
     "name": "stdout",
     "output_type": "stream",
     "text": [
      "\u001B[37m#  Copyright 2018 Amazon.com, Inc. or its affiliates. All Rights Reserved.\u001B[39;49;00m\r\n",
      "\u001B[37m#  \u001B[39;49;00m\r\n",
      "\u001B[37m#  Licensed under the Apache License, Version 2.0 (the \"License\").\u001B[39;49;00m\r\n",
      "\u001B[37m#  You may not use this file except in compliance with the License.\u001B[39;49;00m\r\n",
      "\u001B[37m#  A copy of the License is located at\u001B[39;49;00m\r\n",
      "\u001B[37m#  \u001B[39;49;00m\r\n",
      "\u001B[37m#      http://www.apache.org/licenses/LICENSE-2.0\u001B[39;49;00m\r\n",
      "\u001B[37m#  \u001B[39;49;00m\r\n",
      "\u001B[37m#  or in the \"license\" file accompanying this file. This file is distributed \u001B[39;49;00m\r\n",
      "\u001B[37m#  on an \"AS IS\" BASIS, WITHOUT WARRANTIES OR CONDITIONS OF ANY KIND, either \u001B[39;49;00m\r\n",
      "\u001B[37m#  express or implied. See the License for the specific language governing \u001B[39;49;00m\r\n",
      "\u001B[37m#  permissions and limitations under the License.\u001B[39;49;00m\r\n",
      "\r\n",
      "\u001B[34mfrom\u001B[39;49;00m \u001B[04m\u001B[36m__future__\u001B[39;49;00m \u001B[34mimport\u001B[39;49;00m print_function\r\n",
      "\r\n",
      "\u001B[34mimport\u001B[39;49;00m \u001B[04m\u001B[36margparse\u001B[39;49;00m\r\n",
      "\u001B[34mimport\u001B[39;49;00m \u001B[04m\u001B[36mos\u001B[39;49;00m\r\n",
      "\u001B[34mimport\u001B[39;49;00m \u001B[04m\u001B[36mpandas\u001B[39;49;00m \u001B[34mas\u001B[39;49;00m \u001B[04m\u001B[36mpd\u001B[39;49;00m\r\n",
      "\u001B[34mimport\u001B[39;49;00m \u001B[04m\u001B[36mjson\u001B[39;49;00m\r\n",
      "\r\n",
      "\u001B[34mfrom\u001B[39;49;00m \u001B[04m\u001B[36msklearn\u001B[39;49;00m \u001B[34mimport\u001B[39;49;00m ensemble\r\n",
      "\u001B[34mfrom\u001B[39;49;00m \u001B[04m\u001B[36msklearn\u001B[39;49;00m\u001B[04m\u001B[36m.\u001B[39;49;00m\u001B[04m\u001B[36mexternals\u001B[39;49;00m \u001B[34mimport\u001B[39;49;00m joblib\r\n",
      "\r\n",
      "\r\n",
      "\u001B[34mdef\u001B[39;49;00m \u001B[32mmodel\u001B[39;49;00m(args, x_train, y_train, x_test, y_test):   \r\n",
      "    model = ensemble.RandomForestClassifier(n_estimators=args.n_estimators,max_depth=args.max_depth)\r\n",
      "    model.fit(x_train, y_train)\r\n",
      "    \r\n",
      "    \u001B[36mprint\u001B[39;49;00m(\u001B[33m\"\u001B[39;49;00m\u001B[33mTraining Accuracy: \u001B[39;49;00m\u001B[33m{:.3f}\u001B[39;49;00m\u001B[33m\"\u001B[39;49;00m.format(model.score(x_train,y_train)))\r\n",
      "    \u001B[36mprint\u001B[39;49;00m(\u001B[33m\"\u001B[39;49;00m\u001B[33mTesting Accuracy: \u001B[39;49;00m\u001B[33m{:.3f}\u001B[39;49;00m\u001B[33m\"\u001B[39;49;00m.format(model.score(x_test,y_test)))\r\n",
      "    \r\n",
      "    \u001B[34mreturn\u001B[39;49;00m model\r\n",
      "\r\n",
      "\u001B[34mdef\u001B[39;49;00m \u001B[32m_load_data\u001B[39;49;00m(file_path, channel):\r\n",
      "    \u001B[37m# Take the set of files and read them all into a single pandas dataframe\u001B[39;49;00m\r\n",
      "    input_files = [ os.path.join(file_path, file) \u001B[34mfor\u001B[39;49;00m file \u001B[35min\u001B[39;49;00m os.listdir(file_path) ]\r\n",
      "    \u001B[34mif\u001B[39;49;00m \u001B[36mlen\u001B[39;49;00m(input_files) == \u001B[34m0\u001B[39;49;00m:\r\n",
      "        \u001B[34mraise\u001B[39;49;00m \u001B[36mValueError\u001B[39;49;00m((\u001B[33m'\u001B[39;49;00m\u001B[33mThere are no files in \u001B[39;49;00m\u001B[33m{}\u001B[39;49;00m\u001B[33m.\u001B[39;49;00m\u001B[33m\\n\u001B[39;49;00m\u001B[33m'\u001B[39;49;00m +\r\n",
      "                          \u001B[33m'\u001B[39;49;00m\u001B[33mThis usually indicates that the channel (\u001B[39;49;00m\u001B[33m{}\u001B[39;49;00m\u001B[33m) was incorrectly specified,\u001B[39;49;00m\u001B[33m\\n\u001B[39;49;00m\u001B[33m'\u001B[39;49;00m +\r\n",
      "                          \u001B[33m'\u001B[39;49;00m\u001B[33mthe data specification in S3 was incorrectly specified or the role specified\u001B[39;49;00m\u001B[33m\\n\u001B[39;49;00m\u001B[33m'\u001B[39;49;00m +\r\n",
      "                          \u001B[33m'\u001B[39;49;00m\u001B[33mdoes not have permission to access the data.\u001B[39;49;00m\u001B[33m'\u001B[39;49;00m).format(file_path, channel))\r\n",
      "        \r\n",
      "    raw_data = [ pd.read_csv(file, header=\u001B[34mNone\u001B[39;49;00m, engine=\u001B[33m\"\u001B[39;49;00m\u001B[33mpython\u001B[39;49;00m\u001B[33m\"\u001B[39;49;00m) \u001B[34mfor\u001B[39;49;00m file \u001B[35min\u001B[39;49;00m input_files ]\r\n",
      "    df = pd.concat(raw_data)  \r\n",
      "    \r\n",
      "    features = df.iloc[:,\u001B[34m1\u001B[39;49;00m:].values\r\n",
      "    label = df.iloc[:,\u001B[34m0\u001B[39;49;00m].values\r\n",
      "    \u001B[34mreturn\u001B[39;49;00m features, label\r\n",
      "\r\n",
      "\u001B[34mdef\u001B[39;49;00m \u001B[32m_parse_args\u001B[39;49;00m():\r\n",
      "    parser = argparse.ArgumentParser()\r\n",
      "\r\n",
      "    \u001B[37m# Hyperparameters are described here.\u001B[39;49;00m\r\n",
      "    parser.add_argument(\u001B[33m'\u001B[39;49;00m\u001B[33m--n_estimators\u001B[39;49;00m\u001B[33m'\u001B[39;49;00m, \u001B[36mtype\u001B[39;49;00m=\u001B[36mint\u001B[39;49;00m, default=\u001B[34m100\u001B[39;49;00m)\r\n",
      "    parser.add_argument(\u001B[33m'\u001B[39;49;00m\u001B[33m--max_depth\u001B[39;49;00m\u001B[33m'\u001B[39;49;00m, \u001B[36mtype\u001B[39;49;00m=\u001B[36mint\u001B[39;49;00m, default=\u001B[34m5\u001B[39;49;00m)\r\n",
      "    \r\n",
      "    \u001B[37m# Data, model, and output directories\u001B[39;49;00m\r\n",
      "    \u001B[37m# model_dir is always passed in from SageMaker. By default this is a S3 path under the default bucket.    \u001B[39;49;00m\r\n",
      "    \u001B[37m# Sagemaker specific arguments. Defaults are set in the environment variables.\u001B[39;49;00m\r\n",
      "    parser.add_argument(\u001B[33m'\u001B[39;49;00m\u001B[33m--output-data-dir\u001B[39;49;00m\u001B[33m'\u001B[39;49;00m, \u001B[36mtype\u001B[39;49;00m=\u001B[36mstr\u001B[39;49;00m, default=os.environ[\u001B[33m'\u001B[39;49;00m\u001B[33mSM_OUTPUT_DATA_DIR\u001B[39;49;00m\u001B[33m'\u001B[39;49;00m])\r\n",
      "    parser.add_argument(\u001B[33m'\u001B[39;49;00m\u001B[33m--model-dir\u001B[39;49;00m\u001B[33m'\u001B[39;49;00m, \u001B[36mtype\u001B[39;49;00m=\u001B[36mstr\u001B[39;49;00m, default=os.environ.get(\u001B[33m'\u001B[39;49;00m\u001B[33mSM_MODEL_DIR\u001B[39;49;00m\u001B[33m'\u001B[39;49;00m))\r\n",
      "    parser.add_argument(\u001B[33m'\u001B[39;49;00m\u001B[33m--train\u001B[39;49;00m\u001B[33m'\u001B[39;49;00m, \u001B[36mtype\u001B[39;49;00m=\u001B[36mstr\u001B[39;49;00m, default=os.environ.get(\u001B[33m'\u001B[39;49;00m\u001B[33mSM_CHANNEL_TRAINING\u001B[39;49;00m\u001B[33m'\u001B[39;49;00m))\r\n",
      "    parser.add_argument(\u001B[33m'\u001B[39;49;00m\u001B[33m--test\u001B[39;49;00m\u001B[33m'\u001B[39;49;00m, \u001B[36mtype\u001B[39;49;00m=\u001B[36mstr\u001B[39;49;00m, default=os.environ.get(\u001B[33m'\u001B[39;49;00m\u001B[33mSM_CHANNEL_TESTING\u001B[39;49;00m\u001B[33m'\u001B[39;49;00m))\r\n",
      "    \r\n",
      "    parser.add_argument(\u001B[33m'\u001B[39;49;00m\u001B[33m--hosts\u001B[39;49;00m\u001B[33m'\u001B[39;49;00m, \u001B[36mtype\u001B[39;49;00m=\u001B[36mlist\u001B[39;49;00m, default=json.loads(os.environ.get(\u001B[33m'\u001B[39;49;00m\u001B[33mSM_HOSTS\u001B[39;49;00m\u001B[33m'\u001B[39;49;00m)))\r\n",
      "    parser.add_argument(\u001B[33m'\u001B[39;49;00m\u001B[33m--current-host\u001B[39;49;00m\u001B[33m'\u001B[39;49;00m, \u001B[36mtype\u001B[39;49;00m=\u001B[36mstr\u001B[39;49;00m, default=os.environ.get(\u001B[33m'\u001B[39;49;00m\u001B[33mSM_CURRENT_HOST\u001B[39;49;00m\u001B[33m'\u001B[39;49;00m))\r\n",
      "\r\n",
      "    \u001B[34mreturn\u001B[39;49;00m parser.parse_known_args()\r\n",
      "\r\n",
      "\r\n",
      "\u001B[34mif\u001B[39;49;00m \u001B[31m__name__\u001B[39;49;00m == \u001B[33m'\u001B[39;49;00m\u001B[33m__main__\u001B[39;49;00m\u001B[33m'\u001B[39;49;00m:\r\n",
      "    \r\n",
      "    args, unknown = _parse_args()\r\n",
      "    \r\n",
      "    train_data, train_labels = _load_data(args.train,\u001B[33m'\u001B[39;49;00m\u001B[33mtrain\u001B[39;49;00m\u001B[33m'\u001B[39;49;00m)\r\n",
      "    eval_data, eval_labels = _load_data(args.test,\u001B[33m'\u001B[39;49;00m\u001B[33mtest\u001B[39;49;00m\u001B[33m'\u001B[39;49;00m)\r\n",
      "\r\n",
      "    classifier = model(args, train_data, train_labels, eval_data, eval_labels)\r\n",
      "    \r\n",
      "    \u001B[34mif\u001B[39;49;00m args.current_host == args.hosts[\u001B[34m0\u001B[39;49;00m]:\r\n",
      "        \u001B[37m# Print the coefficients of the trained classifier, and save the coefficients\u001B[39;49;00m\r\n",
      "        joblib.dump(classifier, os.path.join(args.model_dir, \u001B[33m\"\u001B[39;49;00m\u001B[33mmodel.joblib\u001B[39;49;00m\u001B[33m\"\u001B[39;49;00m))\r\n",
      "\r\n",
      "\r\n",
      "\u001B[34mdef\u001B[39;49;00m \u001B[32mmodel_fn\u001B[39;49;00m(model_dir):\r\n",
      "    \u001B[33m\"\"\"Deserialized and return fitted model\u001B[39;49;00m\r\n",
      "\u001B[33m    \u001B[39;49;00m\r\n",
      "\u001B[33m    Note that this should have the same name as the serialized model in the main method\u001B[39;49;00m\r\n",
      "\u001B[33m    \"\"\"\u001B[39;49;00m\r\n",
      "    classifier = joblib.load(os.path.join(model_dir, \u001B[33m\"\u001B[39;49;00m\u001B[33mmodel.joblib\u001B[39;49;00m\u001B[33m\"\u001B[39;49;00m))\r\n",
      "    \u001B[34mreturn\u001B[39;49;00m classifier\r\n"
     ]
    }
   ],
   "source": [
    "!pygmentize 'scikit_learn_iris.py'"
   ]
  },
  {
   "cell_type": "markdown",
   "metadata": {},
   "source": [
    "Because the Scikit-learn container imports your training script, you should always put your training code in a main guard `(if __name__=='__main__':)` so that the container does not inadvertently run your training code at the wrong point in execution.\n",
    "\n",
    "For more information about training environment variables, please visit https://github.com/aws/sagemaker-containers."
   ]
  },
  {
   "cell_type": "markdown",
   "metadata": {},
   "source": [
    "## Create SageMaker Scikit Estimator <a class=\"anchor\" id=\"create_sklearn_estimator\"></a>\n",
    "\n",
    "To run our Scikit-learn training script on SageMaker, we construct a `sagemaker.sklearn.estimator.sklearn` estimator, which accepts several constructor arguments:\n",
    "\n",
    "* __entry_point__: The path to the Python script SageMaker runs for training and prediction.\n",
    "* __role__: Role ARN\n",
    "* __train_instance_type__ *(optional)*: The type of SageMaker instances for training. __Note__: Because Scikit-learn does not natively support GPU training, Sagemaker Scikit-learn does not currently support training on GPU instance types.\n",
    "* __sagemaker_session__ *(optional)*: The session used to train on Sagemaker.\n",
    "* __hyperparameters__ *(optional)*: A dictionary passed to the train function as hyperparameters.\n",
    "\n",
    "To see the code for the SKLearn Estimator, see here: https://github.com/aws/sagemaker-python-sdk/tree/master/src/sagemaker/sklearn"
   ]
  },
  {
   "cell_type": "code",
   "execution_count": 17,
   "metadata": {},
   "outputs": [],
   "source": [
    "#instance_type='ml.m5.xlarge'\n",
    "instance_type='local'"
   ]
  },
  {
   "cell_type": "code",
   "execution_count": 18,
   "metadata": {},
   "outputs": [],
   "source": [
    "#   Reference: http://sagemaker.readthedocs.io/en/latest/estimators.html\n",
    "\n",
    "# SDK 2.x version does not require train prefix for instance count and type\n",
    "# Specify framework and python Version\n",
    "\n",
    "estimator = SKLearn(entry_point='scikit_learn_iris.py',\n",
    "                    framework_version = \"0.20.0\",\n",
    "                    py_version = 'py3',\n",
    "                    instance_type= instance_type,                     \n",
    "                    role=role, \n",
    "                    output_path=model_data_uri,\n",
    "                    base_job_name='sklearn-iris',\n",
    "                    hyperparameters={'n_estimators': 50,'max_depth':5})"
   ]
  },
  {
   "cell_type": "markdown",
   "metadata": {},
   "source": [
    "## Train SKLearn Estimator on Iris data <a class=\"anchor\" id=\"train_sklearn\"></a>\n",
    "Training is very simple, just call `fit` on the Estimator! This will start a SageMaker Training job that will download the data for us, invoke our scikit-learn code (in the provided script file), and save any model artifacts that the script creates."
   ]
  },
  {
   "cell_type": "code",
   "execution_count": 20,
   "metadata": {
    "scrolled": true
   },
   "outputs": [
    {
     "name": "stdout",
     "output_type": "stream",
     "text": [
      "Creating 0xcg3amkmj-algo-1-brqfh ... \n",
      "Creating 0xcg3amkmj-algo-1-brqfh ... done\n",
      "Attaching to 0xcg3amkmj-algo-1-brqfh\n",
      "\u001B[36m0xcg3amkmj-algo-1-brqfh |\u001B[0m 2022-08-02 07:56:10,772 sagemaker-containers INFO     Imported framework sagemaker_sklearn_container.training\n",
      "\u001B[36m0xcg3amkmj-algo-1-brqfh |\u001B[0m 2022-08-02 07:56:10,775 sagemaker-training-toolkit INFO     No GPUs detected (normal if no gpus installed)\n",
      "\u001B[36m0xcg3amkmj-algo-1-brqfh |\u001B[0m 2022-08-02 07:56:10,785 sagemaker_sklearn_container.training INFO     Invoking user training script.\n",
      "\u001B[36m0xcg3amkmj-algo-1-brqfh |\u001B[0m 2022-08-02 07:56:11,032 sagemaker-training-toolkit INFO     No GPUs detected (normal if no gpus installed)\n",
      "\u001B[36m0xcg3amkmj-algo-1-brqfh |\u001B[0m 2022-08-02 07:56:11,045 sagemaker-training-toolkit INFO     No GPUs detected (normal if no gpus installed)\n",
      "\u001B[36m0xcg3amkmj-algo-1-brqfh |\u001B[0m 2022-08-02 07:56:11,057 sagemaker-training-toolkit INFO     No GPUs detected (normal if no gpus installed)\n",
      "\u001B[36m0xcg3amkmj-algo-1-brqfh |\u001B[0m 2022-08-02 07:56:11,066 sagemaker-training-toolkit INFO     Invoking user script\n",
      "\u001B[36m0xcg3amkmj-algo-1-brqfh |\u001B[0m \n",
      "\u001B[36m0xcg3amkmj-algo-1-brqfh |\u001B[0m Training Env:\n",
      "\u001B[36m0xcg3amkmj-algo-1-brqfh |\u001B[0m \n",
      "\u001B[36m0xcg3amkmj-algo-1-brqfh |\u001B[0m {\n",
      "\u001B[36m0xcg3amkmj-algo-1-brqfh |\u001B[0m     \"additional_framework_parameters\": {},\n",
      "\u001B[36m0xcg3amkmj-algo-1-brqfh |\u001B[0m     \"channel_input_dirs\": {\n",
      "\u001B[36m0xcg3amkmj-algo-1-brqfh |\u001B[0m         \"training\": \"/opt/ml/input/data/training\",\n",
      "\u001B[36m0xcg3amkmj-algo-1-brqfh |\u001B[0m         \"testing\": \"/opt/ml/input/data/testing\"\n",
      "\u001B[36m0xcg3amkmj-algo-1-brqfh |\u001B[0m     },\n",
      "\u001B[36m0xcg3amkmj-algo-1-brqfh |\u001B[0m     \"current_host\": \"algo-1-brqfh\",\n",
      "\u001B[36m0xcg3amkmj-algo-1-brqfh |\u001B[0m     \"framework_module\": \"sagemaker_sklearn_container.training:main\",\n",
      "\u001B[36m0xcg3amkmj-algo-1-brqfh |\u001B[0m     \"hosts\": [\n",
      "\u001B[36m0xcg3amkmj-algo-1-brqfh |\u001B[0m         \"algo-1-brqfh\"\n",
      "\u001B[36m0xcg3amkmj-algo-1-brqfh |\u001B[0m     ],\n",
      "\u001B[36m0xcg3amkmj-algo-1-brqfh |\u001B[0m     \"hyperparameters\": {\n",
      "\u001B[36m0xcg3amkmj-algo-1-brqfh |\u001B[0m         \"n_estimators\": 50,\n",
      "\u001B[36m0xcg3amkmj-algo-1-brqfh |\u001B[0m         \"max_depth\": 5\n",
      "\u001B[36m0xcg3amkmj-algo-1-brqfh |\u001B[0m     },\n",
      "\u001B[36m0xcg3amkmj-algo-1-brqfh |\u001B[0m     \"input_config_dir\": \"/opt/ml/input/config\",\n",
      "\u001B[36m0xcg3amkmj-algo-1-brqfh |\u001B[0m     \"input_data_config\": {\n",
      "\u001B[36m0xcg3amkmj-algo-1-brqfh |\u001B[0m         \"training\": {\n",
      "\u001B[36m0xcg3amkmj-algo-1-brqfh |\u001B[0m             \"TrainingInputMode\": \"File\"\n",
      "\u001B[36m0xcg3amkmj-algo-1-brqfh |\u001B[0m         },\n",
      "\u001B[36m0xcg3amkmj-algo-1-brqfh |\u001B[0m         \"testing\": {\n",
      "\u001B[36m0xcg3amkmj-algo-1-brqfh |\u001B[0m             \"TrainingInputMode\": \"File\"\n",
      "\u001B[36m0xcg3amkmj-algo-1-brqfh |\u001B[0m         }\n",
      "\u001B[36m0xcg3amkmj-algo-1-brqfh |\u001B[0m     },\n",
      "\u001B[36m0xcg3amkmj-algo-1-brqfh |\u001B[0m     \"input_dir\": \"/opt/ml/input\",\n",
      "\u001B[36m0xcg3amkmj-algo-1-brqfh |\u001B[0m     \"is_master\": true,\n",
      "\u001B[36m0xcg3amkmj-algo-1-brqfh |\u001B[0m     \"job_name\": \"sklearn-iris-2022-08-02-07-56-07-867\",\n",
      "\u001B[36m0xcg3amkmj-algo-1-brqfh |\u001B[0m     \"log_level\": 20,\n",
      "\u001B[36m0xcg3amkmj-algo-1-brqfh |\u001B[0m     \"master_hostname\": \"algo-1-brqfh\",\n",
      "\u001B[36m0xcg3amkmj-algo-1-brqfh |\u001B[0m     \"model_dir\": \"/opt/ml/model\",\n",
      "\u001B[36m0xcg3amkmj-algo-1-brqfh |\u001B[0m     \"module_dir\": \"s3://radcv-ml-sagemaker/sklearn-iris-2022-08-02-07-56-07-867/source/sourcedir.tar.gz\",\n",
      "\u001B[36m0xcg3amkmj-algo-1-brqfh |\u001B[0m     \"module_name\": \"scikit_learn_iris\",\n",
      "\u001B[36m0xcg3amkmj-algo-1-brqfh |\u001B[0m     \"network_interface_name\": \"eth0\",\n",
      "\u001B[36m0xcg3amkmj-algo-1-brqfh |\u001B[0m     \"num_cpus\": 4,\n",
      "\u001B[36m0xcg3amkmj-algo-1-brqfh |\u001B[0m     \"num_gpus\": 0,\n",
      "\u001B[36m0xcg3amkmj-algo-1-brqfh |\u001B[0m     \"output_data_dir\": \"/opt/ml/output/data\",\n",
      "\u001B[36m0xcg3amkmj-algo-1-brqfh |\u001B[0m     \"output_dir\": \"/opt/ml/output\",\n",
      "\u001B[36m0xcg3amkmj-algo-1-brqfh |\u001B[0m     \"output_intermediate_dir\": \"/opt/ml/output/intermediate\",\n",
      "\u001B[36m0xcg3amkmj-algo-1-brqfh |\u001B[0m     \"resource_config\": {\n",
      "\u001B[36m0xcg3amkmj-algo-1-brqfh |\u001B[0m         \"current_host\": \"algo-1-brqfh\",\n",
      "\u001B[36m0xcg3amkmj-algo-1-brqfh |\u001B[0m         \"hosts\": [\n",
      "\u001B[36m0xcg3amkmj-algo-1-brqfh |\u001B[0m             \"algo-1-brqfh\"\n",
      "\u001B[36m0xcg3amkmj-algo-1-brqfh |\u001B[0m         ]\n",
      "\u001B[36m0xcg3amkmj-algo-1-brqfh |\u001B[0m     },\n",
      "\u001B[36m0xcg3amkmj-algo-1-brqfh |\u001B[0m     \"user_entry_point\": \"scikit_learn_iris.py\"\n",
      "\u001B[36m0xcg3amkmj-algo-1-brqfh |\u001B[0m }\n",
      "\u001B[36m0xcg3amkmj-algo-1-brqfh |\u001B[0m \n",
      "\u001B[36m0xcg3amkmj-algo-1-brqfh |\u001B[0m Environment variables:\n",
      "\u001B[36m0xcg3amkmj-algo-1-brqfh |\u001B[0m \n",
      "\u001B[36m0xcg3amkmj-algo-1-brqfh |\u001B[0m SM_HOSTS=[\"algo-1-brqfh\"]\n",
      "\u001B[36m0xcg3amkmj-algo-1-brqfh |\u001B[0m SM_NETWORK_INTERFACE_NAME=eth0\n",
      "\u001B[36m0xcg3amkmj-algo-1-brqfh |\u001B[0m SM_HPS={\"max_depth\":5,\"n_estimators\":50}\n",
      "\u001B[36m0xcg3amkmj-algo-1-brqfh |\u001B[0m SM_USER_ENTRY_POINT=scikit_learn_iris.py\n",
      "\u001B[36m0xcg3amkmj-algo-1-brqfh |\u001B[0m SM_FRAMEWORK_PARAMS={}\n",
      "\u001B[36m0xcg3amkmj-algo-1-brqfh |\u001B[0m SM_RESOURCE_CONFIG={\"current_host\":\"algo-1-brqfh\",\"hosts\":[\"algo-1-brqfh\"]}\n",
      "\u001B[36m0xcg3amkmj-algo-1-brqfh |\u001B[0m SM_INPUT_DATA_CONFIG={\"testing\":{\"TrainingInputMode\":\"File\"},\"training\":{\"TrainingInputMode\":\"File\"}}\n",
      "\u001B[36m0xcg3amkmj-algo-1-brqfh |\u001B[0m SM_OUTPUT_DATA_DIR=/opt/ml/output/data\n",
      "\u001B[36m0xcg3amkmj-algo-1-brqfh |\u001B[0m SM_CHANNELS=[\"testing\",\"training\"]\n",
      "\u001B[36m0xcg3amkmj-algo-1-brqfh |\u001B[0m SM_CURRENT_HOST=algo-1-brqfh\n",
      "\u001B[36m0xcg3amkmj-algo-1-brqfh |\u001B[0m SM_MODULE_NAME=scikit_learn_iris\n",
      "\u001B[36m0xcg3amkmj-algo-1-brqfh |\u001B[0m SM_LOG_LEVEL=20\n",
      "\u001B[36m0xcg3amkmj-algo-1-brqfh |\u001B[0m SM_FRAMEWORK_MODULE=sagemaker_sklearn_container.training:main\n",
      "\u001B[36m0xcg3amkmj-algo-1-brqfh |\u001B[0m SM_INPUT_DIR=/opt/ml/input\n",
      "\u001B[36m0xcg3amkmj-algo-1-brqfh |\u001B[0m SM_INPUT_CONFIG_DIR=/opt/ml/input/config\n",
      "\u001B[36m0xcg3amkmj-algo-1-brqfh |\u001B[0m SM_OUTPUT_DIR=/opt/ml/output\n",
      "\u001B[36m0xcg3amkmj-algo-1-brqfh |\u001B[0m SM_NUM_CPUS=4\n",
      "\u001B[36m0xcg3amkmj-algo-1-brqfh |\u001B[0m SM_NUM_GPUS=0\n",
      "\u001B[36m0xcg3amkmj-algo-1-brqfh |\u001B[0m SM_MODEL_DIR=/opt/ml/model\n",
      "\u001B[36m0xcg3amkmj-algo-1-brqfh |\u001B[0m SM_MODULE_DIR=s3://radcv-ml-sagemaker/sklearn-iris-2022-08-02-07-56-07-867/source/sourcedir.tar.gz\n",
      "\u001B[36m0xcg3amkmj-algo-1-brqfh |\u001B[0m SM_TRAINING_ENV={\"additional_framework_parameters\":{},\"channel_input_dirs\":{\"testing\":\"/opt/ml/input/data/testing\",\"training\":\"/opt/ml/input/data/training\"},\"current_host\":\"algo-1-brqfh\",\"framework_module\":\"sagemaker_sklearn_container.training:main\",\"hosts\":[\"algo-1-brqfh\"],\"hyperparameters\":{\"max_depth\":5,\"n_estimators\":50},\"input_config_dir\":\"/opt/ml/input/config\",\"input_data_config\":{\"testing\":{\"TrainingInputMode\":\"File\"},\"training\":{\"TrainingInputMode\":\"File\"}},\"input_dir\":\"/opt/ml/input\",\"is_master\":true,\"job_name\":\"sklearn-iris-2022-08-02-07-56-07-867\",\"log_level\":20,\"master_hostname\":\"algo-1-brqfh\",\"model_dir\":\"/opt/ml/model\",\"module_dir\":\"s3://radcv-ml-sagemaker/sklearn-iris-2022-08-02-07-56-07-867/source/sourcedir.tar.gz\",\"module_name\":\"scikit_learn_iris\",\"network_interface_name\":\"eth0\",\"num_cpus\":4,\"num_gpus\":0,\"output_data_dir\":\"/opt/ml/output/data\",\"output_dir\":\"/opt/ml/output\",\"output_intermediate_dir\":\"/opt/ml/output/intermediate\",\"resource_config\":{\"current_host\":\"algo-1-brqfh\",\"hosts\":[\"algo-1-brqfh\"]},\"user_entry_point\":\"scikit_learn_iris.py\"}\n",
      "\u001B[36m0xcg3amkmj-algo-1-brqfh |\u001B[0m SM_USER_ARGS=[\"--max_depth\",\"5\",\"--n_estimators\",\"50\"]\n",
      "\u001B[36m0xcg3amkmj-algo-1-brqfh |\u001B[0m SM_OUTPUT_INTERMEDIATE_DIR=/opt/ml/output/intermediate\n",
      "\u001B[36m0xcg3amkmj-algo-1-brqfh |\u001B[0m SM_CHANNEL_TRAINING=/opt/ml/input/data/training\n",
      "\u001B[36m0xcg3amkmj-algo-1-brqfh |\u001B[0m SM_CHANNEL_TESTING=/opt/ml/input/data/testing\n",
      "\u001B[36m0xcg3amkmj-algo-1-brqfh |\u001B[0m SM_HP_N_ESTIMATORS=50\n",
      "\u001B[36m0xcg3amkmj-algo-1-brqfh |\u001B[0m SM_HP_MAX_DEPTH=5\n",
      "\u001B[36m0xcg3amkmj-algo-1-brqfh |\u001B[0m PYTHONPATH=/opt/ml/code:/miniconda3/bin:/miniconda3/lib/python37.zip:/miniconda3/lib/python3.7:/miniconda3/lib/python3.7/lib-dynload:/miniconda3/lib/python3.7/site-packages\n",
      "\u001B[36m0xcg3amkmj-algo-1-brqfh |\u001B[0m \n",
      "\u001B[36m0xcg3amkmj-algo-1-brqfh |\u001B[0m Invoking script with the following command:\n",
      "\u001B[36m0xcg3amkmj-algo-1-brqfh |\u001B[0m \n",
      "\u001B[36m0xcg3amkmj-algo-1-brqfh |\u001B[0m /miniconda3/bin/python scikit_learn_iris.py --max_depth 5 --n_estimators 50\n",
      "\u001B[36m0xcg3amkmj-algo-1-brqfh |\u001B[0m \n",
      "\u001B[36m0xcg3amkmj-algo-1-brqfh |\u001B[0m \n",
      "\u001B[36m0xcg3amkmj-algo-1-brqfh |\u001B[0m /miniconda3/lib/python3.7/site-packages/sklearn/externals/joblib/externals/cloudpickle/cloudpickle.py:47: DeprecationWarning: the imp module is deprecated in favour of importlib; see the module's documentation for alternative uses\n",
      "\u001B[36m0xcg3amkmj-algo-1-brqfh |\u001B[0m   import imp\n",
      "\u001B[36m0xcg3amkmj-algo-1-brqfh |\u001B[0m Training Accuracy: 1.000\r\n",
      "\u001B[36m0xcg3amkmj-algo-1-brqfh |\u001B[0m Testing Accuracy: 0.956\r\n",
      "\u001B[36m0xcg3amkmj-algo-1-brqfh |\u001B[0m /miniconda3/lib/python3.7/site-packages/sklearn/externals/joblib/numpy_pickle.py:104: DeprecationWarning: tostring() is deprecated. Use tobytes() instead.\r\n",
      "\u001B[36m0xcg3amkmj-algo-1-brqfh |\u001B[0m   pickler.file_handle.write(chunk.tostring('C'))\r\n",
      "\u001B[36m0xcg3amkmj-algo-1-brqfh |\u001B[0m /miniconda3/lib/python3.7/site-packages/sklearn/externals/joblib/numpy_pickle.py:104: DeprecationWarning: tostring() is deprecated. Use tobytes() instead.\r\n",
      "\u001B[36m0xcg3amkmj-algo-1-brqfh |\u001B[0m   pickler.file_handle.write(chunk.tostring('C'))\r\n",
      "\u001B[36m0xcg3amkmj-algo-1-brqfh |\u001B[0m /miniconda3/lib/python3.7/site-packages/sklearn/externals/joblib/numpy_pickle.py:104: DeprecationWarning: tostring() is deprecated. Use tobytes() instead.\r\n",
      "\u001B[36m0xcg3amkmj-algo-1-brqfh |\u001B[0m   pickler.file_handle.write(chunk.tostring('C'))\r\n",
      "\u001B[36m0xcg3amkmj-algo-1-brqfh |\u001B[0m /miniconda3/lib/python3.7/site-packages/sklearn/externals/joblib/numpy_pickle.py:104: DeprecationWarning: tostring() is deprecated. Use tobytes() instead.\r\n",
      "\u001B[36m0xcg3amkmj-algo-1-brqfh |\u001B[0m   pickler.file_handle.write(chunk.tostring('C'))\r\n",
      "\u001B[36m0xcg3amkmj-algo-1-brqfh |\u001B[0m /miniconda3/lib/python3.7/site-packages/sklearn/externals/joblib/numpy_pickle.py:104: DeprecationWarning: tostring() is deprecated. Use tobytes() instead.\r\n",
      "\u001B[36m0xcg3amkmj-algo-1-brqfh |\u001B[0m   pickler.file_handle.write(chunk.tostring('C'))\r\n",
      "\u001B[36m0xcg3amkmj-algo-1-brqfh |\u001B[0m /miniconda3/lib/python3.7/site-packages/sklearn/externals/joblib/numpy_pickle.py:104: DeprecationWarning: tostring() is deprecated. Use tobytes() instead.\r\n",
      "\u001B[36m0xcg3amkmj-algo-1-brqfh |\u001B[0m   pickler.file_handle.write(chunk.tostring('C'))\r\n",
      "\u001B[36m0xcg3amkmj-algo-1-brqfh |\u001B[0m /miniconda3/lib/python3.7/site-packages/sklearn/externals/joblib/numpy_pickle.py:104: DeprecationWarning: tostring() is deprecated. Use tobytes() instead.\r\n",
      "\u001B[36m0xcg3amkmj-algo-1-brqfh |\u001B[0m   pickler.file_handle.write(chunk.tostring('C'))\r\n",
      "\u001B[36m0xcg3amkmj-algo-1-brqfh |\u001B[0m /miniconda3/lib/python3.7/site-packages/sklearn/externals/joblib/numpy_pickle.py:104: DeprecationWarning: tostring() is deprecated. Use tobytes() instead.\r\n",
      "\u001B[36m0xcg3amkmj-algo-1-brqfh |\u001B[0m   pickler.file_handle.write(chunk.tostring('C'))\r\n",
      "\u001B[36m0xcg3amkmj-algo-1-brqfh |\u001B[0m /miniconda3/lib/python3.7/site-packages/sklearn/externals/joblib/numpy_pickle.py:104: DeprecationWarning: tostring() is deprecated. Use tobytes() instead.\r\n",
      "\u001B[36m0xcg3amkmj-algo-1-brqfh |\u001B[0m   pickler.file_handle.write(chunk.tostring('C'))\r\n",
      "\u001B[36m0xcg3amkmj-algo-1-brqfh |\u001B[0m /miniconda3/lib/python3.7/site-packages/sklearn/externals/joblib/numpy_pickle.py:104: DeprecationWarning: tostring() is deprecated. Use tobytes() instead.\r\n",
      "\u001B[36m0xcg3amkmj-algo-1-brqfh |\u001B[0m   pickler.file_handle.write(chunk.tostring('C'))\r\n",
      "\u001B[36m0xcg3amkmj-algo-1-brqfh |\u001B[0m /miniconda3/lib/python3.7/site-packages/sklearn/externals/joblib/numpy_pickle.py:104: DeprecationWarning: tostring() is deprecated. Use tobytes() instead.\r\n",
      "\u001B[36m0xcg3amkmj-algo-1-brqfh |\u001B[0m   pickler.file_handle.write(chunk.tostring('C'))\r\n",
      "\u001B[36m0xcg3amkmj-algo-1-brqfh |\u001B[0m /miniconda3/lib/python3.7/site-packages/sklearn/externals/joblib/numpy_pickle.py:104: DeprecationWarning: tostring() is deprecated. Use tobytes() instead.\r\n",
      "\u001B[36m0xcg3amkmj-algo-1-brqfh |\u001B[0m   pickler.file_handle.write(chunk.tostring('C'))\r\n",
      "\u001B[36m0xcg3amkmj-algo-1-brqfh |\u001B[0m /miniconda3/lib/python3.7/site-packages/sklearn/externals/joblib/numpy_pickle.py:104: DeprecationWarning: tostring() is deprecated. Use tobytes() instead.\r\n",
      "\u001B[36m0xcg3amkmj-algo-1-brqfh |\u001B[0m   pickler.file_handle.write(chunk.tostring('C'))\r\n",
      "\u001B[36m0xcg3amkmj-algo-1-brqfh |\u001B[0m /miniconda3/lib/python3.7/site-packages/sklearn/externals/joblib/numpy_pickle.py:104: DeprecationWarning: tostring() is deprecated. Use tobytes() instead.\r\n",
      "\u001B[36m0xcg3amkmj-algo-1-brqfh |\u001B[0m   pickler.file_handle.write(chunk.tostring('C'))\r\n",
      "\u001B[36m0xcg3amkmj-algo-1-brqfh |\u001B[0m /miniconda3/lib/python3.7/site-packages/sklearn/externals/joblib/numpy_pickle.py:104: DeprecationWarning: tostring() is deprecated. Use tobytes() instead.\r\n",
      "\u001B[36m0xcg3amkmj-algo-1-brqfh |\u001B[0m   pickler.file_handle.write(chunk.tostring('C'))\r\n",
      "\u001B[36m0xcg3amkmj-algo-1-brqfh |\u001B[0m /miniconda3/lib/python3.7/site-packages/sklearn/externals/joblib/numpy_pickle.py:104: DeprecationWarning: tostring() is deprecated. Use tobytes() instead.\r\n",
      "\u001B[36m0xcg3amkmj-algo-1-brqfh |\u001B[0m   pickler.file_handle.write(chunk.tostring('C'))\r\n",
      "\u001B[36m0xcg3amkmj-algo-1-brqfh |\u001B[0m /miniconda3/lib/python3.7/site-packages/sklearn/externals/joblib/numpy_pickle.py:104: DeprecationWarning: tostring() is deprecated. Use tobytes() instead.\r\n",
      "\u001B[36m0xcg3amkmj-algo-1-brqfh |\u001B[0m   pickler.file_handle.write(chunk.tostring('C'))\r\n",
      "\u001B[36m0xcg3amkmj-algo-1-brqfh |\u001B[0m /miniconda3/lib/python3.7/site-packages/sklearn/externals/joblib/numpy_pickle.py:104: DeprecationWarning: tostring() is deprecated. Use tobytes() instead.\r\n",
      "\u001B[36m0xcg3amkmj-algo-1-brqfh |\u001B[0m   pickler.file_handle.write(chunk.tostring('C'))\r\n",
      "\u001B[36m0xcg3amkmj-algo-1-brqfh |\u001B[0m /miniconda3/lib/python3.7/site-packages/sklearn/externals/joblib/numpy_pickle.py:104: DeprecationWarning: tostring() is deprecated. Use tobytes() instead.\r\n",
      "\u001B[36m0xcg3amkmj-algo-1-brqfh |\u001B[0m   pickler.file_handle.write(chunk.tostring('C'))\r\n",
      "\u001B[36m0xcg3amkmj-algo-1-brqfh |\u001B[0m /miniconda3/lib/python3.7/site-packages/sklearn/externals/joblib/numpy_pickle.py:104: DeprecationWarning: tostring() is deprecated. Use tobytes() instead.\r\n",
      "\u001B[36m0xcg3amkmj-algo-1-brqfh |\u001B[0m   pickler.file_handle.write(chunk.tostring('C'))\r\n",
      "\u001B[36m0xcg3amkmj-algo-1-brqfh |\u001B[0m /miniconda3/lib/python3.7/site-packages/sklearn/externals/joblib/numpy_pickle.py:104: DeprecationWarning: tostring() is deprecated. Use tobytes() instead.\r\n",
      "\u001B[36m0xcg3amkmj-algo-1-brqfh |\u001B[0m   pickler.file_handle.write(chunk.tostring('C'))\r\n",
      "\u001B[36m0xcg3amkmj-algo-1-brqfh |\u001B[0m /miniconda3/lib/python3.7/site-packages/sklearn/externals/joblib/numpy_pickle.py:104: DeprecationWarning: tostring() is deprecated. Use tobytes() instead.\r\n",
      "\u001B[36m0xcg3amkmj-algo-1-brqfh |\u001B[0m   pickler.file_handle.write(chunk.tostring('C'))\r\n",
      "\u001B[36m0xcg3amkmj-algo-1-brqfh |\u001B[0m /miniconda3/lib/python3.7/site-packages/sklearn/externals/joblib/numpy_pickle.py:104: DeprecationWarning: tostring() is deprecated. Use tobytes() instead.\r\n",
      "\u001B[36m0xcg3amkmj-algo-1-brqfh |\u001B[0m   pickler.file_handle.write(chunk.tostring('C'))\r\n",
      "\u001B[36m0xcg3amkmj-algo-1-brqfh |\u001B[0m /miniconda3/lib/python3.7/site-packages/sklearn/externals/joblib/numpy_pickle.py:104: DeprecationWarning: tostring() is deprecated. Use tobytes() instead.\r\n",
      "\u001B[36m0xcg3amkmj-algo-1-brqfh |\u001B[0m   pickler.file_handle.write(chunk.tostring('C'))\r\n",
      "\u001B[36m0xcg3amkmj-algo-1-brqfh |\u001B[0m /miniconda3/lib/python3.7/site-packages/sklearn/externals/joblib/numpy_pickle.py:104: DeprecationWarning: tostring() is deprecated. Use tobytes() instead.\r\n",
      "\u001B[36m0xcg3amkmj-algo-1-brqfh |\u001B[0m   pickler.file_handle.write(chunk.tostring('C'))\r\n",
      "\u001B[36m0xcg3amkmj-algo-1-brqfh |\u001B[0m /miniconda3/lib/python3.7/site-packages/sklearn/externals/joblib/numpy_pickle.py:104: DeprecationWarning: tostring() is deprecated. Use tobytes() instead.\r\n",
      "\u001B[36m0xcg3amkmj-algo-1-brqfh |\u001B[0m   pickler.file_handle.write(chunk.tostring('C'))\r\n",
      "\u001B[36m0xcg3amkmj-algo-1-brqfh |\u001B[0m /miniconda3/lib/python3.7/site-packages/sklearn/externals/joblib/numpy_pickle.py:104: DeprecationWarning: tostring() is deprecated. Use tobytes() instead.\r\n",
      "\u001B[36m0xcg3amkmj-algo-1-brqfh |\u001B[0m   pickler.file_handle.write(chunk.tostring('C'))\r\n",
      "\u001B[36m0xcg3amkmj-algo-1-brqfh |\u001B[0m /miniconda3/lib/python3.7/site-packages/sklearn/externals/joblib/numpy_pickle.py:104: DeprecationWarning: tostring() is deprecated. Use tobytes() instead.\r\n",
      "\u001B[36m0xcg3amkmj-algo-1-brqfh |\u001B[0m   pickler.file_handle.write(chunk.tostring('C'))\r\n",
      "\u001B[36m0xcg3amkmj-algo-1-brqfh |\u001B[0m /miniconda3/lib/python3.7/site-packages/sklearn/externals/joblib/numpy_pickle.py:104: DeprecationWarning: tostring() is deprecated. Use tobytes() instead.\r\n",
      "\u001B[36m0xcg3amkmj-algo-1-brqfh |\u001B[0m   pickler.file_handle.write(chunk.tostring('C'))\r\n",
      "\u001B[36m0xcg3amkmj-algo-1-brqfh |\u001B[0m /miniconda3/lib/python3.7/site-packages/sklearn/externals/joblib/numpy_pickle.py:104: DeprecationWarning: tostring() is deprecated. Use tobytes() instead.\r\n",
      "\u001B[36m0xcg3amkmj-algo-1-brqfh |\u001B[0m   pickler.file_handle.write(chunk.tostring('C'))\r\n",
      "\u001B[36m0xcg3amkmj-algo-1-brqfh |\u001B[0m /miniconda3/lib/python3.7/site-packages/sklearn/externals/joblib/numpy_pickle.py:104: DeprecationWarning: tostring() is deprecated. Use tobytes() instead.\r\n",
      "\u001B[36m0xcg3amkmj-algo-1-brqfh |\u001B[0m   pickler.file_handle.write(chunk.tostring('C'))\r\n",
      "\u001B[36m0xcg3amkmj-algo-1-brqfh |\u001B[0m /miniconda3/lib/python3.7/site-packages/sklearn/externals/joblib/numpy_pickle.py:104: DeprecationWarning: tostring() is deprecated. Use tobytes() instead.\r\n",
      "\u001B[36m0xcg3amkmj-algo-1-brqfh |\u001B[0m   pickler.file_handle.write(chunk.tostring('C'))\r\n",
      "\u001B[36m0xcg3amkmj-algo-1-brqfh |\u001B[0m /miniconda3/lib/python3.7/site-packages/sklearn/externals/joblib/numpy_pickle.py:104: DeprecationWarning: tostring() is deprecated. Use tobytes() instead.\r\n",
      "\u001B[36m0xcg3amkmj-algo-1-brqfh |\u001B[0m   pickler.file_handle.write(chunk.tostring('C'))\r\n",
      "\u001B[36m0xcg3amkmj-algo-1-brqfh |\u001B[0m /miniconda3/lib/python3.7/site-packages/sklearn/externals/joblib/numpy_pickle.py:104: DeprecationWarning: tostring() is deprecated. Use tobytes() instead.\r\n",
      "\u001B[36m0xcg3amkmj-algo-1-brqfh |\u001B[0m   pickler.file_handle.write(chunk.tostring('C'))\r\n",
      "\u001B[36m0xcg3amkmj-algo-1-brqfh |\u001B[0m /miniconda3/lib/python3.7/site-packages/sklearn/externals/joblib/numpy_pickle.py:104: DeprecationWarning: tostring() is deprecated. Use tobytes() instead.\r\n",
      "\u001B[36m0xcg3amkmj-algo-1-brqfh |\u001B[0m   pickler.file_handle.write(chunk.tostring('C'))\r\n",
      "\u001B[36m0xcg3amkmj-algo-1-brqfh |\u001B[0m /miniconda3/lib/python3.7/site-packages/sklearn/externals/joblib/numpy_pickle.py:104: DeprecationWarning: tostring() is deprecated. Use tobytes() instead.\r\n",
      "\u001B[36m0xcg3amkmj-algo-1-brqfh |\u001B[0m   pickler.file_handle.write(chunk.tostring('C'))\r\n",
      "\u001B[36m0xcg3amkmj-algo-1-brqfh |\u001B[0m /miniconda3/lib/python3.7/site-packages/sklearn/externals/joblib/numpy_pickle.py:104: DeprecationWarning: tostring() is deprecated. Use tobytes() instead.\r\n",
      "\u001B[36m0xcg3amkmj-algo-1-brqfh |\u001B[0m   pickler.file_handle.write(chunk.tostring('C'))\r\n",
      "\u001B[36m0xcg3amkmj-algo-1-brqfh |\u001B[0m /miniconda3/lib/python3.7/site-packages/sklearn/externals/joblib/numpy_pickle.py:104: DeprecationWarning: tostring() is deprecated. Use tobytes() instead.\r\n",
      "\u001B[36m0xcg3amkmj-algo-1-brqfh |\u001B[0m   pickler.file_handle.write(chunk.tostring('C'))\r\n",
      "\u001B[36m0xcg3amkmj-algo-1-brqfh |\u001B[0m /miniconda3/lib/python3.7/site-packages/sklearn/externals/joblib/numpy_pickle.py:104: DeprecationWarning: tostring() is deprecated. Use tobytes() instead.\r\n",
      "\u001B[36m0xcg3amkmj-algo-1-brqfh |\u001B[0m   pickler.file_handle.write(chunk.tostring('C'))\r\n",
      "\u001B[36m0xcg3amkmj-algo-1-brqfh |\u001B[0m /miniconda3/lib/python3.7/site-packages/sklearn/externals/joblib/numpy_pickle.py:104: DeprecationWarning: tostring() is deprecated. Use tobytes() instead.\r\n",
      "\u001B[36m0xcg3amkmj-algo-1-brqfh |\u001B[0m   pickler.file_handle.write(chunk.tostring('C'))\r\n",
      "\u001B[36m0xcg3amkmj-algo-1-brqfh |\u001B[0m /miniconda3/lib/python3.7/site-packages/sklearn/externals/joblib/numpy_pickle.py:104: DeprecationWarning: tostring() is deprecated. Use tobytes() instead.\r\n",
      "\u001B[36m0xcg3amkmj-algo-1-brqfh |\u001B[0m   pickler.file_handle.write(chunk.tostring('C'))\r\n",
      "\u001B[36m0xcg3amkmj-algo-1-brqfh |\u001B[0m /miniconda3/lib/python3.7/site-packages/sklearn/externals/joblib/numpy_pickle.py:104: DeprecationWarning: tostring() is deprecated. Use tobytes() instead.\r\n",
      "\u001B[36m0xcg3amkmj-algo-1-brqfh |\u001B[0m   pickler.file_handle.write(chunk.tostring('C'))\r\n",
      "\u001B[36m0xcg3amkmj-algo-1-brqfh |\u001B[0m /miniconda3/lib/python3.7/site-packages/sklearn/externals/joblib/numpy_pickle.py:104: DeprecationWarning: tostring() is deprecated. Use tobytes() instead.\r\n",
      "\u001B[36m0xcg3amkmj-algo-1-brqfh |\u001B[0m   pickler.file_handle.write(chunk.tostring('C'))\r\n",
      "\u001B[36m0xcg3amkmj-algo-1-brqfh |\u001B[0m /miniconda3/lib/python3.7/site-packages/sklearn/externals/joblib/numpy_pickle.py:104: DeprecationWarning: tostring() is deprecated. Use tobytes() instead.\r\n",
      "\u001B[36m0xcg3amkmj-algo-1-brqfh |\u001B[0m   pickler.file_handle.write(chunk.tostring('C'))\r\n",
      "\u001B[36m0xcg3amkmj-algo-1-brqfh |\u001B[0m /miniconda3/lib/python3.7/site-packages/sklearn/externals/joblib/numpy_pickle.py:104: DeprecationWarning: tostring() is deprecated. Use tobytes() instead.\r\n",
      "\u001B[36m0xcg3amkmj-algo-1-brqfh |\u001B[0m   pickler.file_handle.write(chunk.tostring('C'))\r\n",
      "\u001B[36m0xcg3amkmj-algo-1-brqfh |\u001B[0m /miniconda3/lib/python3.7/site-packages/sklearn/externals/joblib/numpy_pickle.py:104: DeprecationWarning: tostring() is deprecated. Use tobytes() instead.\r\n",
      "\u001B[36m0xcg3amkmj-algo-1-brqfh |\u001B[0m   pickler.file_handle.write(chunk.tostring('C'))\r\n",
      "\u001B[36m0xcg3amkmj-algo-1-brqfh |\u001B[0m /miniconda3/lib/python3.7/site-packages/sklearn/externals/joblib/numpy_pickle.py:104: DeprecationWarning: tostring() is deprecated. Use tobytes() instead.\r\n",
      "\u001B[36m0xcg3amkmj-algo-1-brqfh |\u001B[0m   pickler.file_handle.write(chunk.tostring('C'))\r\n",
      "\u001B[36m0xcg3amkmj-algo-1-brqfh |\u001B[0m /miniconda3/lib/python3.7/site-packages/sklearn/externals/joblib/numpy_pickle.py:104: DeprecationWarning: tostring() is deprecated. Use tobytes() instead.\r\n",
      "\u001B[36m0xcg3amkmj-algo-1-brqfh |\u001B[0m   pickler.file_handle.write(chunk.tostring('C'))\r\n",
      "\u001B[36m0xcg3amkmj-algo-1-brqfh |\u001B[0m /miniconda3/lib/python3.7/site-packages/sklearn/externals/joblib/numpy_pickle.py:104: DeprecationWarning: tostring() is deprecated. Use tobytes() instead.\r\n",
      "\u001B[36m0xcg3amkmj-algo-1-brqfh |\u001B[0m   pickler.file_handle.write(chunk.tostring('C'))\r\n",
      "\u001B[36m0xcg3amkmj-algo-1-brqfh |\u001B[0m /miniconda3/lib/python3.7/site-packages/sklearn/externals/joblib/numpy_pickle.py:104: DeprecationWarning: tostring() is deprecated. Use tobytes() instead.\r\n",
      "\u001B[36m0xcg3amkmj-algo-1-brqfh |\u001B[0m   pickler.file_handle.write(chunk.tostring('C'))\r\n",
      "\u001B[36m0xcg3amkmj-algo-1-brqfh |\u001B[0m /miniconda3/lib/python3.7/site-packages/sklearn/externals/joblib/numpy_pickle.py:104: DeprecationWarning: tostring() is deprecated. Use tobytes() instead.\r\n",
      "\u001B[36m0xcg3amkmj-algo-1-brqfh |\u001B[0m   pickler.file_handle.write(chunk.tostring('C'))\r\n",
      "\u001B[36m0xcg3amkmj-algo-1-brqfh |\u001B[0m /miniconda3/lib/python3.7/site-packages/sklearn/externals/joblib/numpy_pickle.py:104: DeprecationWarning: tostring() is deprecated. Use tobytes() instead.\r\n",
      "\u001B[36m0xcg3amkmj-algo-1-brqfh |\u001B[0m   pickler.file_handle.write(chunk.tostring('C'))\r\n",
      "\u001B[36m0xcg3amkmj-algo-1-brqfh |\u001B[0m /miniconda3/lib/python3.7/site-packages/sklearn/externals/joblib/numpy_pickle.py:104: DeprecationWarning: tostring() is deprecated. Use tobytes() instead.\r\n",
      "\u001B[36m0xcg3amkmj-algo-1-brqfh |\u001B[0m   pickler.file_handle.write(chunk.tostring('C'))\r\n",
      "\u001B[36m0xcg3amkmj-algo-1-brqfh |\u001B[0m /miniconda3/lib/python3.7/site-packages/sklearn/externals/joblib/numpy_pickle.py:104: DeprecationWarning: tostring() is deprecated. Use tobytes() instead.\r\n",
      "\u001B[36m0xcg3amkmj-algo-1-brqfh |\u001B[0m   pickler.file_handle.write(chunk.tostring('C'))\r\n",
      "\u001B[36m0xcg3amkmj-algo-1-brqfh |\u001B[0m /miniconda3/lib/python3.7/site-packages/sklearn/externals/joblib/numpy_pickle.py:104: DeprecationWarning: tostring() is deprecated. Use tobytes() instead.\r\n",
      "\u001B[36m0xcg3amkmj-algo-1-brqfh |\u001B[0m   pickler.file_handle.write(chunk.tostring('C'))\r\n",
      "\u001B[36m0xcg3amkmj-algo-1-brqfh |\u001B[0m /miniconda3/lib/python3.7/site-packages/sklearn/externals/joblib/numpy_pickle.py:104: DeprecationWarning: tostring() is deprecated. Use tobytes() instead.\r\n",
      "\u001B[36m0xcg3amkmj-algo-1-brqfh |\u001B[0m   pickler.file_handle.write(chunk.tostring('C'))\r\n",
      "\u001B[36m0xcg3amkmj-algo-1-brqfh |\u001B[0m /miniconda3/lib/python3.7/site-packages/sklearn/externals/joblib/numpy_pickle.py:104: DeprecationWarning: tostring() is deprecated. Use tobytes() instead.\r\n",
      "\u001B[36m0xcg3amkmj-algo-1-brqfh |\u001B[0m   pickler.file_handle.write(chunk.tostring('C'))\r\n",
      "\u001B[36m0xcg3amkmj-algo-1-brqfh |\u001B[0m /miniconda3/lib/python3.7/site-packages/sklearn/externals/joblib/numpy_pickle.py:104: DeprecationWarning: tostring() is deprecated. Use tobytes() instead.\r\n",
      "\u001B[36m0xcg3amkmj-algo-1-brqfh |\u001B[0m   pickler.file_handle.write(chunk.tostring('C'))\r\n",
      "\u001B[36m0xcg3amkmj-algo-1-brqfh |\u001B[0m /miniconda3/lib/python3.7/site-packages/sklearn/externals/joblib/numpy_pickle.py:104: DeprecationWarning: tostring() is deprecated. Use tobytes() instead.\r\n",
      "\u001B[36m0xcg3amkmj-algo-1-brqfh |\u001B[0m   pickler.file_handle.write(chunk.tostring('C'))\r\n",
      "\u001B[36m0xcg3amkmj-algo-1-brqfh |\u001B[0m /miniconda3/lib/python3.7/site-packages/sklearn/externals/joblib/numpy_pickle.py:104: DeprecationWarning: tostring() is deprecated. Use tobytes() instead.\r\n",
      "\u001B[36m0xcg3amkmj-algo-1-brqfh |\u001B[0m   pickler.file_handle.write(chunk.tostring('C'))\r\n",
      "\u001B[36m0xcg3amkmj-algo-1-brqfh |\u001B[0m /miniconda3/lib/python3.7/site-packages/sklearn/externals/joblib/numpy_pickle.py:104: DeprecationWarning: tostring() is deprecated. Use tobytes() instead.\r\n",
      "\u001B[36m0xcg3amkmj-algo-1-brqfh |\u001B[0m   pickler.file_handle.write(chunk.tostring('C'))\r\n",
      "\u001B[36m0xcg3amkmj-algo-1-brqfh |\u001B[0m /miniconda3/lib/python3.7/site-packages/sklearn/externals/joblib/numpy_pickle.py:104: DeprecationWarning: tostring() is deprecated. Use tobytes() instead.\r\n",
      "\u001B[36m0xcg3amkmj-algo-1-brqfh |\u001B[0m   pickler.file_handle.write(chunk.tostring('C'))\r\n",
      "\u001B[36m0xcg3amkmj-algo-1-brqfh |\u001B[0m /miniconda3/lib/python3.7/site-packages/sklearn/externals/joblib/numpy_pickle.py:104: DeprecationWarning: tostring() is deprecated. Use tobytes() instead.\r\n",
      "\u001B[36m0xcg3amkmj-algo-1-brqfh |\u001B[0m   pickler.file_handle.write(chunk.tostring('C'))\r\n",
      "\u001B[36m0xcg3amkmj-algo-1-brqfh |\u001B[0m /miniconda3/lib/python3.7/site-packages/sklearn/externals/joblib/numpy_pickle.py:104: DeprecationWarning: tostring() is deprecated. Use tobytes() instead.\r\n",
      "\u001B[36m0xcg3amkmj-algo-1-brqfh |\u001B[0m   pickler.file_handle.write(chunk.tostring('C'))\r\n",
      "\u001B[36m0xcg3amkmj-algo-1-brqfh |\u001B[0m /miniconda3/lib/python3.7/site-packages/sklearn/externals/joblib/numpy_pickle.py:104: DeprecationWarning: tostring() is deprecated. Use tobytes() instead.\r\n",
      "\u001B[36m0xcg3amkmj-algo-1-brqfh |\u001B[0m   pickler.file_handle.write(chunk.tostring('C'))\r\n",
      "\u001B[36m0xcg3amkmj-algo-1-brqfh |\u001B[0m /miniconda3/lib/python3.7/site-packages/sklearn/externals/joblib/numpy_pickle.py:104: DeprecationWarning: tostring() is deprecated. Use tobytes() instead.\r\n",
      "\u001B[36m0xcg3amkmj-algo-1-brqfh |\u001B[0m   pickler.file_handle.write(chunk.tostring('C'))\r\n",
      "\u001B[36m0xcg3amkmj-algo-1-brqfh |\u001B[0m /miniconda3/lib/python3.7/site-packages/sklearn/externals/joblib/numpy_pickle.py:104: DeprecationWarning: tostring() is deprecated. Use tobytes() instead.\r\n",
      "\u001B[36m0xcg3amkmj-algo-1-brqfh |\u001B[0m   pickler.file_handle.write(chunk.tostring('C'))\r\n",
      "\u001B[36m0xcg3amkmj-algo-1-brqfh |\u001B[0m /miniconda3/lib/python3.7/site-packages/sklearn/externals/joblib/numpy_pickle.py:104: DeprecationWarning: tostring() is deprecated. Use tobytes() instead.\r\n",
      "\u001B[36m0xcg3amkmj-algo-1-brqfh |\u001B[0m   pickler.file_handle.write(chunk.tostring('C'))\r\n",
      "\u001B[36m0xcg3amkmj-algo-1-brqfh |\u001B[0m /miniconda3/lib/python3.7/site-packages/sklearn/externals/joblib/numpy_pickle.py:104: DeprecationWarning: tostring() is deprecated. Use tobytes() instead.\r\n",
      "\u001B[36m0xcg3amkmj-algo-1-brqfh |\u001B[0m   pickler.file_handle.write(chunk.tostring('C'))\r\n",
      "\u001B[36m0xcg3amkmj-algo-1-brqfh |\u001B[0m /miniconda3/lib/python3.7/site-packages/sklearn/externals/joblib/numpy_pickle.py:104: DeprecationWarning: tostring() is deprecated. Use tobytes() instead.\r\n",
      "\u001B[36m0xcg3amkmj-algo-1-brqfh |\u001B[0m   pickler.file_handle.write(chunk.tostring('C'))\r\n",
      "\u001B[36m0xcg3amkmj-algo-1-brqfh |\u001B[0m /miniconda3/lib/python3.7/site-packages/sklearn/externals/joblib/numpy_pickle.py:104: DeprecationWarning: tostring() is deprecated. Use tobytes() instead.\r\n",
      "\u001B[36m0xcg3amkmj-algo-1-brqfh |\u001B[0m   pickler.file_handle.write(chunk.tostring('C'))\r\n",
      "\u001B[36m0xcg3amkmj-algo-1-brqfh |\u001B[0m /miniconda3/lib/python3.7/site-packages/sklearn/externals/joblib/numpy_pickle.py:104: DeprecationWarning: tostring() is deprecated. Use tobytes() instead.\r\n",
      "\u001B[36m0xcg3amkmj-algo-1-brqfh |\u001B[0m   pickler.file_handle.write(chunk.tostring('C'))\r\n",
      "\u001B[36m0xcg3amkmj-algo-1-brqfh |\u001B[0m /miniconda3/lib/python3.7/site-packages/sklearn/externals/joblib/numpy_pickle.py:104: DeprecationWarning: tostring() is deprecated. Use tobytes() instead.\r\n",
      "\u001B[36m0xcg3amkmj-algo-1-brqfh |\u001B[0m   pickler.file_handle.write(chunk.tostring('C'))\r\n",
      "\u001B[36m0xcg3amkmj-algo-1-brqfh |\u001B[0m /miniconda3/lib/python3.7/site-packages/sklearn/externals/joblib/numpy_pickle.py:104: DeprecationWarning: tostring() is deprecated. Use tobytes() instead.\r\n",
      "\u001B[36m0xcg3amkmj-algo-1-brqfh |\u001B[0m   pickler.file_handle.write(chunk.tostring('C'))\r\n",
      "\u001B[36m0xcg3amkmj-algo-1-brqfh |\u001B[0m /miniconda3/lib/python3.7/site-packages/sklearn/externals/joblib/numpy_pickle.py:104: DeprecationWarning: tostring() is deprecated. Use tobytes() instead.\r\n",
      "\u001B[36m0xcg3amkmj-algo-1-brqfh |\u001B[0m   pickler.file_handle.write(chunk.tostring('C'))\r\n",
      "\u001B[36m0xcg3amkmj-algo-1-brqfh |\u001B[0m /miniconda3/lib/python3.7/site-packages/sklearn/externals/joblib/numpy_pickle.py:104: DeprecationWarning: tostring() is deprecated. Use tobytes() instead.\r\n",
      "\u001B[36m0xcg3amkmj-algo-1-brqfh |\u001B[0m   pickler.file_handle.write(chunk.tostring('C'))\r\n",
      "\u001B[36m0xcg3amkmj-algo-1-brqfh |\u001B[0m /miniconda3/lib/python3.7/site-packages/sklearn/externals/joblib/numpy_pickle.py:104: DeprecationWarning: tostring() is deprecated. Use tobytes() instead.\r\n",
      "\u001B[36m0xcg3amkmj-algo-1-brqfh |\u001B[0m   pickler.file_handle.write(chunk.tostring('C'))\r\n",
      "\u001B[36m0xcg3amkmj-algo-1-brqfh |\u001B[0m /miniconda3/lib/python3.7/site-packages/sklearn/externals/joblib/numpy_pickle.py:104: DeprecationWarning: tostring() is deprecated. Use tobytes() instead.\r\n",
      "\u001B[36m0xcg3amkmj-algo-1-brqfh |\u001B[0m   pickler.file_handle.write(chunk.tostring('C'))\r\n",
      "\u001B[36m0xcg3amkmj-algo-1-brqfh |\u001B[0m /miniconda3/lib/python3.7/site-packages/sklearn/externals/joblib/numpy_pickle.py:104: DeprecationWarning: tostring() is deprecated. Use tobytes() instead.\r\n",
      "\u001B[36m0xcg3amkmj-algo-1-brqfh |\u001B[0m   pickler.file_handle.write(chunk.tostring('C'))\r\n",
      "\u001B[36m0xcg3amkmj-algo-1-brqfh |\u001B[0m /miniconda3/lib/python3.7/site-packages/sklearn/externals/joblib/numpy_pickle.py:104: DeprecationWarning: tostring() is deprecated. Use tobytes() instead.\r\n",
      "\u001B[36m0xcg3amkmj-algo-1-brqfh |\u001B[0m   pickler.file_handle.write(chunk.tostring('C'))\r\n",
      "\u001B[36m0xcg3amkmj-algo-1-brqfh |\u001B[0m /miniconda3/lib/python3.7/site-packages/sklearn/externals/joblib/numpy_pickle.py:104: DeprecationWarning: tostring() is deprecated. Use tobytes() instead.\r\n",
      "\u001B[36m0xcg3amkmj-algo-1-brqfh |\u001B[0m   pickler.file_handle.write(chunk.tostring('C'))\r\n",
      "\u001B[36m0xcg3amkmj-algo-1-brqfh |\u001B[0m /miniconda3/lib/python3.7/site-packages/sklearn/externals/joblib/numpy_pickle.py:104: DeprecationWarning: tostring() is deprecated. Use tobytes() instead.\r\n",
      "\u001B[36m0xcg3amkmj-algo-1-brqfh |\u001B[0m   pickler.file_handle.write(chunk.tostring('C'))\r\n",
      "\u001B[36m0xcg3amkmj-algo-1-brqfh |\u001B[0m /miniconda3/lib/python3.7/site-packages/sklearn/externals/joblib/numpy_pickle.py:104: DeprecationWarning: tostring() is deprecated. Use tobytes() instead.\r\n",
      "\u001B[36m0xcg3amkmj-algo-1-brqfh |\u001B[0m   pickler.file_handle.write(chunk.tostring('C'))\r\n",
      "\u001B[36m0xcg3amkmj-algo-1-brqfh |\u001B[0m /miniconda3/lib/python3.7/site-packages/sklearn/externals/joblib/numpy_pickle.py:104: DeprecationWarning: tostring() is deprecated. Use tobytes() instead.\r\n",
      "\u001B[36m0xcg3amkmj-algo-1-brqfh |\u001B[0m   pickler.file_handle.write(chunk.tostring('C'))\r\n",
      "\u001B[36m0xcg3amkmj-algo-1-brqfh |\u001B[0m /miniconda3/lib/python3.7/site-packages/sklearn/externals/joblib/numpy_pickle.py:104: DeprecationWarning: tostring() is deprecated. Use tobytes() instead.\r\n",
      "\u001B[36m0xcg3amkmj-algo-1-brqfh |\u001B[0m   pickler.file_handle.write(chunk.tostring('C'))\r\n",
      "\u001B[36m0xcg3amkmj-algo-1-brqfh |\u001B[0m /miniconda3/lib/python3.7/site-packages/sklearn/externals/joblib/numpy_pickle.py:104: DeprecationWarning: tostring() is deprecated. Use tobytes() instead.\r\n",
      "\u001B[36m0xcg3amkmj-algo-1-brqfh |\u001B[0m   pickler.file_handle.write(chunk.tostring('C'))\r\n",
      "\u001B[36m0xcg3amkmj-algo-1-brqfh |\u001B[0m /miniconda3/lib/python3.7/site-packages/sklearn/externals/joblib/numpy_pickle.py:104: DeprecationWarning: tostring() is deprecated. Use tobytes() instead.\r\n",
      "\u001B[36m0xcg3amkmj-algo-1-brqfh |\u001B[0m   pickler.file_handle.write(chunk.tostring('C'))\r\n",
      "\u001B[36m0xcg3amkmj-algo-1-brqfh |\u001B[0m /miniconda3/lib/python3.7/site-packages/sklearn/externals/joblib/numpy_pickle.py:104: DeprecationWarning: tostring() is deprecated. Use tobytes() instead.\r\n",
      "\u001B[36m0xcg3amkmj-algo-1-brqfh |\u001B[0m   pickler.file_handle.write(chunk.tostring('C'))\r\n",
      "\u001B[36m0xcg3amkmj-algo-1-brqfh |\u001B[0m /miniconda3/lib/python3.7/site-packages/sklearn/externals/joblib/numpy_pickle.py:104: DeprecationWarning: tostring() is deprecated. Use tobytes() instead.\r\n",
      "\u001B[36m0xcg3amkmj-algo-1-brqfh |\u001B[0m   pickler.file_handle.write(chunk.tostring('C'))\r\n",
      "\u001B[36m0xcg3amkmj-algo-1-brqfh |\u001B[0m /miniconda3/lib/python3.7/site-packages/sklearn/externals/joblib/numpy_pickle.py:104: DeprecationWarning: tostring() is deprecated. Use tobytes() instead.\r\n",
      "\u001B[36m0xcg3amkmj-algo-1-brqfh |\u001B[0m   pickler.file_handle.write(chunk.tostring('C'))\r\n",
      "\u001B[36m0xcg3amkmj-algo-1-brqfh |\u001B[0m /miniconda3/lib/python3.7/site-packages/sklearn/externals/joblib/numpy_pickle.py:104: DeprecationWarning: tostring() is deprecated. Use tobytes() instead.\r\n",
      "\u001B[36m0xcg3amkmj-algo-1-brqfh |\u001B[0m   pickler.file_handle.write(chunk.tostring('C'))\r\n",
      "\u001B[36m0xcg3amkmj-algo-1-brqfh |\u001B[0m /miniconda3/lib/python3.7/site-packages/sklearn/externals/joblib/numpy_pickle.py:104: DeprecationWarning: tostring() is deprecated. Use tobytes() instead.\r\n",
      "\u001B[36m0xcg3amkmj-algo-1-brqfh |\u001B[0m   pickler.file_handle.write(chunk.tostring('C'))\r\n",
      "\u001B[36m0xcg3amkmj-algo-1-brqfh |\u001B[0m /miniconda3/lib/python3.7/site-packages/sklearn/externals/joblib/numpy_pickle.py:104: DeprecationWarning: tostring() is deprecated. Use tobytes() instead.\r\n",
      "\u001B[36m0xcg3amkmj-algo-1-brqfh |\u001B[0m   pickler.file_handle.write(chunk.tostring('C'))\r\n",
      "\u001B[36m0xcg3amkmj-algo-1-brqfh |\u001B[0m /miniconda3/lib/python3.7/site-packages/sklearn/externals/joblib/numpy_pickle.py:104: DeprecationWarning: tostring() is deprecated. Use tobytes() instead.\r\n",
      "\u001B[36m0xcg3amkmj-algo-1-brqfh |\u001B[0m   pickler.file_handle.write(chunk.tostring('C'))\r\n",
      "\u001B[36m0xcg3amkmj-algo-1-brqfh |\u001B[0m /miniconda3/lib/python3.7/site-packages/sklearn/externals/joblib/numpy_pickle.py:104: DeprecationWarning: tostring() is deprecated. Use tobytes() instead.\r\n",
      "\u001B[36m0xcg3amkmj-algo-1-brqfh |\u001B[0m   pickler.file_handle.write(chunk.tostring('C'))\r\n",
      "\u001B[36m0xcg3amkmj-algo-1-brqfh |\u001B[0m /miniconda3/lib/python3.7/site-packages/sklearn/externals/joblib/numpy_pickle.py:104: DeprecationWarning: tostring() is deprecated. Use tobytes() instead.\r\n",
      "\u001B[36m0xcg3amkmj-algo-1-brqfh |\u001B[0m   pickler.file_handle.write(chunk.tostring('C'))\r\n",
      "\u001B[36m0xcg3amkmj-algo-1-brqfh |\u001B[0m /miniconda3/lib/python3.7/site-packages/sklearn/externals/joblib/numpy_pickle.py:104: DeprecationWarning: tostring() is deprecated. Use tobytes() instead.\r\n",
      "\u001B[36m0xcg3amkmj-algo-1-brqfh |\u001B[0m   pickler.file_handle.write(chunk.tostring('C'))\r\n",
      "\u001B[36m0xcg3amkmj-algo-1-brqfh |\u001B[0m /miniconda3/lib/python3.7/site-packages/sklearn/externals/joblib/numpy_pickle.py:104: DeprecationWarning: tostring() is deprecated. Use tobytes() instead.\r\n",
      "\u001B[36m0xcg3amkmj-algo-1-brqfh |\u001B[0m   pickler.file_handle.write(chunk.tostring('C'))\r\n",
      "\u001B[36m0xcg3amkmj-algo-1-brqfh |\u001B[0m /miniconda3/lib/python3.7/site-packages/sklearn/externals/joblib/numpy_pickle.py:104: DeprecationWarning: tostring() is deprecated. Use tobytes() instead.\r\n",
      "\u001B[36m0xcg3amkmj-algo-1-brqfh |\u001B[0m   pickler.file_handle.write(chunk.tostring('C'))\r\n",
      "\u001B[36m0xcg3amkmj-algo-1-brqfh |\u001B[0m /miniconda3/lib/python3.7/site-packages/sklearn/externals/joblib/numpy_pickle.py:104: DeprecationWarning: tostring() is deprecated. Use tobytes() instead.\r\n",
      "\u001B[36m0xcg3amkmj-algo-1-brqfh |\u001B[0m   pickler.file_handle.write(chunk.tostring('C'))\r\n",
      "\u001B[36m0xcg3amkmj-algo-1-brqfh |\u001B[0m /miniconda3/lib/python3.7/site-packages/sklearn/externals/joblib/numpy_pickle.py:104: DeprecationWarning: tostring() is deprecated. Use tobytes() instead.\r\n",
      "\u001B[36m0xcg3amkmj-algo-1-brqfh |\u001B[0m   pickler.file_handle.write(chunk.tostring('C'))\r\n",
      "\u001B[36m0xcg3amkmj-algo-1-brqfh |\u001B[0m /miniconda3/lib/python3.7/site-packages/sklearn/externals/joblib/numpy_pickle.py:104: DeprecationWarning: tostring() is deprecated. Use tobytes() instead.\r\n",
      "\u001B[36m0xcg3amkmj-algo-1-brqfh |\u001B[0m   pickler.file_handle.write(chunk.tostring('C'))\r\n",
      "\u001B[36m0xcg3amkmj-algo-1-brqfh |\u001B[0m /miniconda3/lib/python3.7/site-packages/sklearn/externals/joblib/numpy_pickle.py:104: DeprecationWarning: tostring() is deprecated. Use tobytes() instead.\r\n",
      "\u001B[36m0xcg3amkmj-algo-1-brqfh |\u001B[0m   pickler.file_handle.write(chunk.tostring('C'))\r\n",
      "\u001B[36m0xcg3amkmj-algo-1-brqfh |\u001B[0m /miniconda3/lib/python3.7/site-packages/sklearn/externals/joblib/numpy_pickle.py:104: DeprecationWarning: tostring() is deprecated. Use tobytes() instead.\r\n",
      "\u001B[36m0xcg3amkmj-algo-1-brqfh |\u001B[0m   pickler.file_handle.write(chunk.tostring('C'))\r\n",
      "\u001B[36m0xcg3amkmj-algo-1-brqfh |\u001B[0m /miniconda3/lib/python3.7/site-packages/sklearn/externals/joblib/numpy_pickle.py:104: DeprecationWarning: tostring() is deprecated. Use tobytes() instead.\r\n",
      "\u001B[36m0xcg3amkmj-algo-1-brqfh |\u001B[0m   pickler.file_handle.write(chunk.tostring('C'))\r\n",
      "\u001B[36m0xcg3amkmj-algo-1-brqfh |\u001B[0m /miniconda3/lib/python3.7/site-packages/sklearn/externals/joblib/numpy_pickle.py:104: DeprecationWarning: tostring() is deprecated. Use tobytes() instead.\r\n",
      "\u001B[36m0xcg3amkmj-algo-1-brqfh |\u001B[0m   pickler.file_handle.write(chunk.tostring('C'))\r\n",
      "\u001B[36m0xcg3amkmj-algo-1-brqfh |\u001B[0m /miniconda3/lib/python3.7/site-packages/sklearn/externals/joblib/numpy_pickle.py:104: DeprecationWarning: tostring() is deprecated. Use tobytes() instead.\r\n",
      "\u001B[36m0xcg3amkmj-algo-1-brqfh |\u001B[0m   pickler.file_handle.write(chunk.tostring('C'))\r\n",
      "\u001B[36m0xcg3amkmj-algo-1-brqfh |\u001B[0m /miniconda3/lib/python3.7/site-packages/sklearn/externals/joblib/numpy_pickle.py:104: DeprecationWarning: tostring() is deprecated. Use tobytes() instead.\r\n",
      "\u001B[36m0xcg3amkmj-algo-1-brqfh |\u001B[0m   pickler.file_handle.write(chunk.tostring('C'))\r\n",
      "\u001B[36m0xcg3amkmj-algo-1-brqfh |\u001B[0m /miniconda3/lib/python3.7/site-packages/sklearn/externals/joblib/numpy_pickle.py:104: DeprecationWarning: tostring() is deprecated. Use tobytes() instead.\r\n",
      "\u001B[36m0xcg3amkmj-algo-1-brqfh |\u001B[0m   pickler.file_handle.write(chunk.tostring('C'))\r\n",
      "\u001B[36m0xcg3amkmj-algo-1-brqfh |\u001B[0m /miniconda3/lib/python3.7/site-packages/sklearn/externals/joblib/numpy_pickle.py:104: DeprecationWarning: tostring() is deprecated. Use tobytes() instead.\r\n",
      "\u001B[36m0xcg3amkmj-algo-1-brqfh |\u001B[0m   pickler.file_handle.write(chunk.tostring('C'))\r\n",
      "\u001B[36m0xcg3amkmj-algo-1-brqfh |\u001B[0m /miniconda3/lib/python3.7/site-packages/sklearn/externals/joblib/numpy_pickle.py:104: DeprecationWarning: tostring() is deprecated. Use tobytes() instead.\r\n",
      "\u001B[36m0xcg3amkmj-algo-1-brqfh |\u001B[0m   pickler.file_handle.write(chunk.tostring('C'))\r\n",
      "\u001B[36m0xcg3amkmj-algo-1-brqfh |\u001B[0m /miniconda3/lib/python3.7/site-packages/sklearn/externals/joblib/numpy_pickle.py:104: DeprecationWarning: tostring() is deprecated. Use tobytes() instead.\r\n",
      "\u001B[36m0xcg3amkmj-algo-1-brqfh |\u001B[0m   pickler.file_handle.write(chunk.tostring('C'))\r\n",
      "\u001B[36m0xcg3amkmj-algo-1-brqfh |\u001B[0m /miniconda3/lib/python3.7/site-packages/sklearn/externals/joblib/numpy_pickle.py:104: DeprecationWarning: tostring() is deprecated. Use tobytes() instead.\r\n",
      "\u001B[36m0xcg3amkmj-algo-1-brqfh |\u001B[0m   pickler.file_handle.write(chunk.tostring('C'))\r\n",
      "\u001B[36m0xcg3amkmj-algo-1-brqfh |\u001B[0m /miniconda3/lib/python3.7/site-packages/sklearn/externals/joblib/numpy_pickle.py:104: DeprecationWarning: tostring() is deprecated. Use tobytes() instead.\r\n",
      "\u001B[36m0xcg3amkmj-algo-1-brqfh |\u001B[0m   pickler.file_handle.write(chunk.tostring('C'))\r\n",
      "\u001B[36m0xcg3amkmj-algo-1-brqfh |\u001B[0m /miniconda3/lib/python3.7/site-packages/sklearn/externals/joblib/numpy_pickle.py:104: DeprecationWarning: tostring() is deprecated. Use tobytes() instead.\r\n",
      "\u001B[36m0xcg3amkmj-algo-1-brqfh |\u001B[0m   pickler.file_handle.write(chunk.tostring('C'))\r\n",
      "\u001B[36m0xcg3amkmj-algo-1-brqfh |\u001B[0m /miniconda3/lib/python3.7/site-packages/sklearn/externals/joblib/numpy_pickle.py:104: DeprecationWarning: tostring() is deprecated. Use tobytes() instead.\r\n",
      "\u001B[36m0xcg3amkmj-algo-1-brqfh |\u001B[0m   pickler.file_handle.write(chunk.tostring('C'))\r\n",
      "\u001B[36m0xcg3amkmj-algo-1-brqfh |\u001B[0m /miniconda3/lib/python3.7/site-packages/sklearn/externals/joblib/numpy_pickle.py:104: DeprecationWarning: tostring() is deprecated. Use tobytes() instead.\r\n",
      "\u001B[36m0xcg3amkmj-algo-1-brqfh |\u001B[0m   pickler.file_handle.write(chunk.tostring('C'))\r\n",
      "\u001B[36m0xcg3amkmj-algo-1-brqfh |\u001B[0m /miniconda3/lib/python3.7/site-packages/sklearn/externals/joblib/numpy_pickle.py:104: DeprecationWarning: tostring() is deprecated. Use tobytes() instead.\r\n",
      "\u001B[36m0xcg3amkmj-algo-1-brqfh |\u001B[0m   pickler.file_handle.write(chunk.tostring('C'))\r\n",
      "\u001B[36m0xcg3amkmj-algo-1-brqfh |\u001B[0m /miniconda3/lib/python3.7/site-packages/sklearn/externals/joblib/numpy_pickle.py:104: DeprecationWarning: tostring() is deprecated. Use tobytes() instead.\r\n",
      "\u001B[36m0xcg3amkmj-algo-1-brqfh |\u001B[0m   pickler.file_handle.write(chunk.tostring('C'))\r\n",
      "\u001B[36m0xcg3amkmj-algo-1-brqfh |\u001B[0m /miniconda3/lib/python3.7/site-packages/sklearn/externals/joblib/numpy_pickle.py:104: DeprecationWarning: tostring() is deprecated. Use tobytes() instead.\r\n",
      "\u001B[36m0xcg3amkmj-algo-1-brqfh |\u001B[0m   pickler.file_handle.write(chunk.tostring('C'))\r\n",
      "\u001B[36m0xcg3amkmj-algo-1-brqfh |\u001B[0m /miniconda3/lib/python3.7/site-packages/sklearn/externals/joblib/numpy_pickle.py:104: DeprecationWarning: tostring() is deprecated. Use tobytes() instead.\r\n",
      "\u001B[36m0xcg3amkmj-algo-1-brqfh |\u001B[0m   pickler.file_handle.write(chunk.tostring('C'))\r\n",
      "\u001B[36m0xcg3amkmj-algo-1-brqfh |\u001B[0m /miniconda3/lib/python3.7/site-packages/sklearn/externals/joblib/numpy_pickle.py:104: DeprecationWarning: tostring() is deprecated. Use tobytes() instead.\r\n",
      "\u001B[36m0xcg3amkmj-algo-1-brqfh |\u001B[0m   pickler.file_handle.write(chunk.tostring('C'))\r\n",
      "\u001B[36m0xcg3amkmj-algo-1-brqfh |\u001B[0m /miniconda3/lib/python3.7/site-packages/sklearn/externals/joblib/numpy_pickle.py:104: DeprecationWarning: tostring() is deprecated. Use tobytes() instead.\r\n",
      "\u001B[36m0xcg3amkmj-algo-1-brqfh |\u001B[0m   pickler.file_handle.write(chunk.tostring('C'))\r\n",
      "\u001B[36m0xcg3amkmj-algo-1-brqfh |\u001B[0m /miniconda3/lib/python3.7/site-packages/sklearn/externals/joblib/numpy_pickle.py:104: DeprecationWarning: tostring() is deprecated. Use tobytes() instead.\r\n",
      "\u001B[36m0xcg3amkmj-algo-1-brqfh |\u001B[0m   pickler.file_handle.write(chunk.tostring('C'))\r\n",
      "\u001B[36m0xcg3amkmj-algo-1-brqfh |\u001B[0m /miniconda3/lib/python3.7/site-packages/sklearn/externals/joblib/numpy_pickle.py:104: DeprecationWarning: tostring() is deprecated. Use tobytes() instead.\r\n",
      "\u001B[36m0xcg3amkmj-algo-1-brqfh |\u001B[0m   pickler.file_handle.write(chunk.tostring('C'))\r\n",
      "\u001B[36m0xcg3amkmj-algo-1-brqfh |\u001B[0m /miniconda3/lib/python3.7/site-packages/sklearn/externals/joblib/numpy_pickle.py:104: DeprecationWarning: tostring() is deprecated. Use tobytes() instead.\r\n",
      "\u001B[36m0xcg3amkmj-algo-1-brqfh |\u001B[0m   pickler.file_handle.write(chunk.tostring('C'))\r\n",
      "\u001B[36m0xcg3amkmj-algo-1-brqfh |\u001B[0m /miniconda3/lib/python3.7/site-packages/sklearn/externals/joblib/numpy_pickle.py:104: DeprecationWarning: tostring() is deprecated. Use tobytes() instead.\r\n",
      "\u001B[36m0xcg3amkmj-algo-1-brqfh |\u001B[0m   pickler.file_handle.write(chunk.tostring('C'))\r\n",
      "\u001B[36m0xcg3amkmj-algo-1-brqfh |\u001B[0m /miniconda3/lib/python3.7/site-packages/sklearn/externals/joblib/numpy_pickle.py:104: DeprecationWarning: tostring() is deprecated. Use tobytes() instead.\r\n",
      "\u001B[36m0xcg3amkmj-algo-1-brqfh |\u001B[0m   pickler.file_handle.write(chunk.tostring('C'))\r\n",
      "\u001B[36m0xcg3amkmj-algo-1-brqfh |\u001B[0m /miniconda3/lib/python3.7/site-packages/sklearn/externals/joblib/numpy_pickle.py:104: DeprecationWarning: tostring() is deprecated. Use tobytes() instead.\r\n",
      "\u001B[36m0xcg3amkmj-algo-1-brqfh |\u001B[0m   pickler.file_handle.write(chunk.tostring('C'))\r\n",
      "\u001B[36m0xcg3amkmj-algo-1-brqfh |\u001B[0m /miniconda3/lib/python3.7/site-packages/sklearn/externals/joblib/numpy_pickle.py:104: DeprecationWarning: tostring() is deprecated. Use tobytes() instead.\r\n",
      "\u001B[36m0xcg3amkmj-algo-1-brqfh |\u001B[0m   pickler.file_handle.write(chunk.tostring('C'))\r\n",
      "\u001B[36m0xcg3amkmj-algo-1-brqfh |\u001B[0m /miniconda3/lib/python3.7/site-packages/sklearn/externals/joblib/numpy_pickle.py:104: DeprecationWarning: tostring() is deprecated. Use tobytes() instead.\r\n",
      "\u001B[36m0xcg3amkmj-algo-1-brqfh |\u001B[0m   pickler.file_handle.write(chunk.tostring('C'))\r\n",
      "\u001B[36m0xcg3amkmj-algo-1-brqfh |\u001B[0m /miniconda3/lib/python3.7/site-packages/sklearn/externals/joblib/numpy_pickle.py:104: DeprecationWarning: tostring() is deprecated. Use tobytes() instead.\r\n",
      "\u001B[36m0xcg3amkmj-algo-1-brqfh |\u001B[0m   pickler.file_handle.write(chunk.tostring('C'))\r\n",
      "\u001B[36m0xcg3amkmj-algo-1-brqfh |\u001B[0m /miniconda3/lib/python3.7/site-packages/sklearn/externals/joblib/numpy_pickle.py:104: DeprecationWarning: tostring() is deprecated. Use tobytes() instead.\r\n",
      "\u001B[36m0xcg3amkmj-algo-1-brqfh |\u001B[0m   pickler.file_handle.write(chunk.tostring('C'))\r\n",
      "\u001B[36m0xcg3amkmj-algo-1-brqfh |\u001B[0m /miniconda3/lib/python3.7/site-packages/sklearn/externals/joblib/numpy_pickle.py:104: DeprecationWarning: tostring() is deprecated. Use tobytes() instead.\r\n",
      "\u001B[36m0xcg3amkmj-algo-1-brqfh |\u001B[0m   pickler.file_handle.write(chunk.tostring('C'))\r\n",
      "\u001B[36m0xcg3amkmj-algo-1-brqfh |\u001B[0m /miniconda3/lib/python3.7/site-packages/sklearn/externals/joblib/numpy_pickle.py:104: DeprecationWarning: tostring() is deprecated. Use tobytes() instead.\r\n",
      "\u001B[36m0xcg3amkmj-algo-1-brqfh |\u001B[0m   pickler.file_handle.write(chunk.tostring('C'))\r\n",
      "\u001B[36m0xcg3amkmj-algo-1-brqfh |\u001B[0m /miniconda3/lib/python3.7/site-packages/sklearn/externals/joblib/numpy_pickle.py:104: DeprecationWarning: tostring() is deprecated. Use tobytes() instead.\r\n",
      "\u001B[36m0xcg3amkmj-algo-1-brqfh |\u001B[0m   pickler.file_handle.write(chunk.tostring('C'))\r\n",
      "\u001B[36m0xcg3amkmj-algo-1-brqfh |\u001B[0m /miniconda3/lib/python3.7/site-packages/sklearn/externals/joblib/numpy_pickle.py:104: DeprecationWarning: tostring() is deprecated. Use tobytes() instead.\r\n",
      "\u001B[36m0xcg3amkmj-algo-1-brqfh |\u001B[0m   pickler.file_handle.write(chunk.tostring('C'))\r\n",
      "\u001B[36m0xcg3amkmj-algo-1-brqfh |\u001B[0m /miniconda3/lib/python3.7/site-packages/sklearn/externals/joblib/numpy_pickle.py:104: DeprecationWarning: tostring() is deprecated. Use tobytes() instead.\r\n",
      "\u001B[36m0xcg3amkmj-algo-1-brqfh |\u001B[0m   pickler.file_handle.write(chunk.tostring('C'))\r\n",
      "\u001B[36m0xcg3amkmj-algo-1-brqfh |\u001B[0m /miniconda3/lib/python3.7/site-packages/sklearn/externals/joblib/numpy_pickle.py:104: DeprecationWarning: tostring() is deprecated. Use tobytes() instead.\r\n",
      "\u001B[36m0xcg3amkmj-algo-1-brqfh |\u001B[0m   pickler.file_handle.write(chunk.tostring('C'))\r\n",
      "\u001B[36m0xcg3amkmj-algo-1-brqfh |\u001B[0m /miniconda3/lib/python3.7/site-packages/sklearn/externals/joblib/numpy_pickle.py:104: DeprecationWarning: tostring() is deprecated. Use tobytes() instead.\r\n",
      "\u001B[36m0xcg3amkmj-algo-1-brqfh |\u001B[0m   pickler.file_handle.write(chunk.tostring('C'))\r\n",
      "\u001B[36m0xcg3amkmj-algo-1-brqfh |\u001B[0m /miniconda3/lib/python3.7/site-packages/sklearn/externals/joblib/numpy_pickle.py:104: DeprecationWarning: tostring() is deprecated. Use tobytes() instead.\r\n",
      "\u001B[36m0xcg3amkmj-algo-1-brqfh |\u001B[0m   pickler.file_handle.write(chunk.tostring('C'))\r\n",
      "\u001B[36m0xcg3amkmj-algo-1-brqfh |\u001B[0m /miniconda3/lib/python3.7/site-packages/sklearn/externals/joblib/numpy_pickle.py:104: DeprecationWarning: tostring() is deprecated. Use tobytes() instead.\r\n",
      "\u001B[36m0xcg3amkmj-algo-1-brqfh |\u001B[0m   pickler.file_handle.write(chunk.tostring('C'))\r\n",
      "\u001B[36m0xcg3amkmj-algo-1-brqfh |\u001B[0m /miniconda3/lib/python3.7/site-packages/sklearn/externals/joblib/numpy_pickle.py:104: DeprecationWarning: tostring() is deprecated. Use tobytes() instead.\r\n",
      "\u001B[36m0xcg3amkmj-algo-1-brqfh |\u001B[0m   pickler.file_handle.write(chunk.tostring('C'))\r\n",
      "\u001B[36m0xcg3amkmj-algo-1-brqfh |\u001B[0m /miniconda3/lib/python3.7/site-packages/sklearn/externals/joblib/numpy_pickle.py:104: DeprecationWarning: tostring() is deprecated. Use tobytes() instead.\r\n",
      "\u001B[36m0xcg3amkmj-algo-1-brqfh |\u001B[0m   pickler.file_handle.write(chunk.tostring('C'))\r\n",
      "\u001B[36m0xcg3amkmj-algo-1-brqfh |\u001B[0m /miniconda3/lib/python3.7/site-packages/sklearn/externals/joblib/numpy_pickle.py:104: DeprecationWarning: tostring() is deprecated. Use tobytes() instead.\r\n",
      "\u001B[36m0xcg3amkmj-algo-1-brqfh |\u001B[0m   pickler.file_handle.write(chunk.tostring('C'))\r\n",
      "\u001B[36m0xcg3amkmj-algo-1-brqfh |\u001B[0m /miniconda3/lib/python3.7/site-packages/sklearn/externals/joblib/numpy_pickle.py:104: DeprecationWarning: tostring() is deprecated. Use tobytes() instead.\r\n",
      "\u001B[36m0xcg3amkmj-algo-1-brqfh |\u001B[0m   pickler.file_handle.write(chunk.tostring('C'))\r\n",
      "\u001B[36m0xcg3amkmj-algo-1-brqfh |\u001B[0m /miniconda3/lib/python3.7/site-packages/sklearn/externals/joblib/numpy_pickle.py:104: DeprecationWarning: tostring() is deprecated. Use tobytes() instead.\r\n",
      "\u001B[36m0xcg3amkmj-algo-1-brqfh |\u001B[0m   pickler.file_handle.write(chunk.tostring('C'))\r\n",
      "\u001B[36m0xcg3amkmj-algo-1-brqfh |\u001B[0m /miniconda3/lib/python3.7/site-packages/sklearn/externals/joblib/numpy_pickle.py:104: DeprecationWarning: tostring() is deprecated. Use tobytes() instead.\r\n",
      "\u001B[36m0xcg3amkmj-algo-1-brqfh |\u001B[0m   pickler.file_handle.write(chunk.tostring('C'))\r\n",
      "\u001B[36m0xcg3amkmj-algo-1-brqfh |\u001B[0m /miniconda3/lib/python3.7/site-packages/sklearn/externals/joblib/numpy_pickle.py:104: DeprecationWarning: tostring() is deprecated. Use tobytes() instead.\r\n",
      "\u001B[36m0xcg3amkmj-algo-1-brqfh |\u001B[0m   pickler.file_handle.write(chunk.tostring('C'))\r\n",
      "\u001B[36m0xcg3amkmj-algo-1-brqfh |\u001B[0m /miniconda3/lib/python3.7/site-packages/sklearn/externals/joblib/numpy_pickle.py:104: DeprecationWarning: tostring() is deprecated. Use tobytes() instead.\r\n",
      "\u001B[36m0xcg3amkmj-algo-1-brqfh |\u001B[0m   pickler.file_handle.write(chunk.tostring('C'))\r\n",
      "\u001B[36m0xcg3amkmj-algo-1-brqfh |\u001B[0m /miniconda3/lib/python3.7/site-packages/sklearn/externals/joblib/numpy_pickle.py:104: DeprecationWarning: tostring() is deprecated. Use tobytes() instead.\r\n",
      "\u001B[36m0xcg3amkmj-algo-1-brqfh |\u001B[0m   pickler.file_handle.write(chunk.tostring('C'))\r\n",
      "\u001B[36m0xcg3amkmj-algo-1-brqfh |\u001B[0m /miniconda3/lib/python3.7/site-packages/sklearn/externals/joblib/numpy_pickle.py:104: DeprecationWarning: tostring() is deprecated. Use tobytes() instead.\r\n",
      "\u001B[36m0xcg3amkmj-algo-1-brqfh |\u001B[0m   pickler.file_handle.write(chunk.tostring('C'))\r\n",
      "\u001B[36m0xcg3amkmj-algo-1-brqfh |\u001B[0m /miniconda3/lib/python3.7/site-packages/sklearn/externals/joblib/numpy_pickle.py:104: DeprecationWarning: tostring() is deprecated. Use tobytes() instead.\r\n",
      "\u001B[36m0xcg3amkmj-algo-1-brqfh |\u001B[0m   pickler.file_handle.write(chunk.tostring('C'))\r\n",
      "\u001B[36m0xcg3amkmj-algo-1-brqfh |\u001B[0m /miniconda3/lib/python3.7/site-packages/sklearn/externals/joblib/numpy_pickle.py:104: DeprecationWarning: tostring() is deprecated. Use tobytes() instead.\r\n",
      "\u001B[36m0xcg3amkmj-algo-1-brqfh |\u001B[0m   pickler.file_handle.write(chunk.tostring('C'))\r\n",
      "\u001B[36m0xcg3amkmj-algo-1-brqfh |\u001B[0m /miniconda3/lib/python3.7/site-packages/sklearn/externals/joblib/numpy_pickle.py:104: DeprecationWarning: tostring() is deprecated. Use tobytes() instead.\r\n",
      "\u001B[36m0xcg3amkmj-algo-1-brqfh |\u001B[0m   pickler.file_handle.write(chunk.tostring('C'))\r\n",
      "\u001B[36m0xcg3amkmj-algo-1-brqfh |\u001B[0m /miniconda3/lib/python3.7/site-packages/sklearn/externals/joblib/numpy_pickle.py:104: DeprecationWarning: tostring() is deprecated. Use tobytes() instead.\r\n",
      "\u001B[36m0xcg3amkmj-algo-1-brqfh |\u001B[0m   pickler.file_handle.write(chunk.tostring('C'))\r\n",
      "\u001B[36m0xcg3amkmj-algo-1-brqfh |\u001B[0m /miniconda3/lib/python3.7/site-packages/sklearn/externals/joblib/numpy_pickle.py:104: DeprecationWarning: tostring() is deprecated. Use tobytes() instead.\r\n",
      "\u001B[36m0xcg3amkmj-algo-1-brqfh |\u001B[0m   pickler.file_handle.write(chunk.tostring('C'))\r\n",
      "\u001B[36m0xcg3amkmj-algo-1-brqfh |\u001B[0m /miniconda3/lib/python3.7/site-packages/sklearn/externals/joblib/numpy_pickle.py:104: DeprecationWarning: tostring() is deprecated. Use tobytes() instead.\r\n",
      "\u001B[36m0xcg3amkmj-algo-1-brqfh |\u001B[0m   pickler.file_handle.write(chunk.tostring('C'))\r\n",
      "\u001B[36m0xcg3amkmj-algo-1-brqfh |\u001B[0m /miniconda3/lib/python3.7/site-packages/sklearn/externals/joblib/numpy_pickle.py:104: DeprecationWarning: tostring() is deprecated. Use tobytes() instead.\r\n",
      "\u001B[36m0xcg3amkmj-algo-1-brqfh |\u001B[0m   pickler.file_handle.write(chunk.tostring('C'))\r\n",
      "\u001B[36m0xcg3amkmj-algo-1-brqfh |\u001B[0m /miniconda3/lib/python3.7/site-packages/sklearn/externals/joblib/numpy_pickle.py:104: DeprecationWarning: tostring() is deprecated. Use tobytes() instead.\r\n",
      "\u001B[36m0xcg3amkmj-algo-1-brqfh |\u001B[0m   pickler.file_handle.write(chunk.tostring('C'))\r\n",
      "\u001B[36m0xcg3amkmj-algo-1-brqfh |\u001B[0m /miniconda3/lib/python3.7/site-packages/sklearn/externals/joblib/numpy_pickle.py:104: DeprecationWarning: tostring() is deprecated. Use tobytes() instead.\r\n",
      "\u001B[36m0xcg3amkmj-algo-1-brqfh |\u001B[0m   pickler.file_handle.write(chunk.tostring('C'))\r\n",
      "\u001B[36m0xcg3amkmj-algo-1-brqfh |\u001B[0m /miniconda3/lib/python3.7/site-packages/sklearn/externals/joblib/numpy_pickle.py:104: DeprecationWarning: tostring() is deprecated. Use tobytes() instead.\r\n",
      "\u001B[36m0xcg3amkmj-algo-1-brqfh |\u001B[0m   pickler.file_handle.write(chunk.tostring('C'))\r\n",
      "\u001B[36m0xcg3amkmj-algo-1-brqfh |\u001B[0m /miniconda3/lib/python3.7/site-packages/sklearn/externals/joblib/numpy_pickle.py:104: DeprecationWarning: tostring() is deprecated. Use tobytes() instead.\r\n",
      "\u001B[36m0xcg3amkmj-algo-1-brqfh |\u001B[0m   pickler.file_handle.write(chunk.tostring('C'))\r\n",
      "\u001B[36m0xcg3amkmj-algo-1-brqfh |\u001B[0m /miniconda3/lib/python3.7/site-packages/sklearn/externals/joblib/numpy_pickle.py:104: DeprecationWarning: tostring() is deprecated. Use tobytes() instead.\r\n",
      "\u001B[36m0xcg3amkmj-algo-1-brqfh |\u001B[0m   pickler.file_handle.write(chunk.tostring('C'))\r\n",
      "\u001B[36m0xcg3amkmj-algo-1-brqfh |\u001B[0m /miniconda3/lib/python3.7/site-packages/sklearn/externals/joblib/numpy_pickle.py:104: DeprecationWarning: tostring() is deprecated. Use tobytes() instead.\r\n",
      "\u001B[36m0xcg3amkmj-algo-1-brqfh |\u001B[0m   pickler.file_handle.write(chunk.tostring('C'))\r\n",
      "\u001B[36m0xcg3amkmj-algo-1-brqfh |\u001B[0m /miniconda3/lib/python3.7/site-packages/sklearn/externals/joblib/numpy_pickle.py:104: DeprecationWarning: tostring() is deprecated. Use tobytes() instead.\r\n",
      "\u001B[36m0xcg3amkmj-algo-1-brqfh |\u001B[0m   pickler.file_handle.write(chunk.tostring('C'))\r\n",
      "\u001B[36m0xcg3amkmj-algo-1-brqfh |\u001B[0m /miniconda3/lib/python3.7/site-packages/sklearn/externals/joblib/numpy_pickle.py:104: DeprecationWarning: tostring() is deprecated. Use tobytes() instead.\r\n",
      "\u001B[36m0xcg3amkmj-algo-1-brqfh |\u001B[0m   pickler.file_handle.write(chunk.tostring('C'))\r\n",
      "\u001B[36m0xcg3amkmj-algo-1-brqfh |\u001B[0m /miniconda3/lib/python3.7/site-packages/sklearn/externals/joblib/numpy_pickle.py:104: DeprecationWarning: tostring() is deprecated. Use tobytes() instead.\r\n",
      "\u001B[36m0xcg3amkmj-algo-1-brqfh |\u001B[0m   pickler.file_handle.write(chunk.tostring('C'))\r\n",
      "\u001B[36m0xcg3amkmj-algo-1-brqfh |\u001B[0m /miniconda3/lib/python3.7/site-packages/sklearn/externals/joblib/numpy_pickle.py:104: DeprecationWarning: tostring() is deprecated. Use tobytes() instead.\r\n",
      "\u001B[36m0xcg3amkmj-algo-1-brqfh |\u001B[0m   pickler.file_handle.write(chunk.tostring('C'))\r\n",
      "\u001B[36m0xcg3amkmj-algo-1-brqfh |\u001B[0m /miniconda3/lib/python3.7/site-packages/sklearn/externals/joblib/numpy_pickle.py:104: DeprecationWarning: tostring() is deprecated. Use tobytes() instead.\r\n",
      "\u001B[36m0xcg3amkmj-algo-1-brqfh |\u001B[0m   pickler.file_handle.write(chunk.tostring('C'))\r\n",
      "\u001B[36m0xcg3amkmj-algo-1-brqfh |\u001B[0m /miniconda3/lib/python3.7/site-packages/sklearn/externals/joblib/numpy_pickle.py:104: DeprecationWarning: tostring() is deprecated. Use tobytes() instead.\r\n",
      "\u001B[36m0xcg3amkmj-algo-1-brqfh |\u001B[0m   pickler.file_handle.write(chunk.tostring('C'))\r\n",
      "\u001B[36m0xcg3amkmj-algo-1-brqfh |\u001B[0m /miniconda3/lib/python3.7/site-packages/sklearn/externals/joblib/numpy_pickle.py:104: DeprecationWarning: tostring() is deprecated. Use tobytes() instead.\r\n",
      "\u001B[36m0xcg3amkmj-algo-1-brqfh |\u001B[0m   pickler.file_handle.write(chunk.tostring('C'))\r\n",
      "\u001B[36m0xcg3amkmj-algo-1-brqfh |\u001B[0m /miniconda3/lib/python3.7/site-packages/sklearn/externals/joblib/numpy_pickle.py:104: DeprecationWarning: tostring() is deprecated. Use tobytes() instead.\r\n",
      "\u001B[36m0xcg3amkmj-algo-1-brqfh |\u001B[0m   pickler.file_handle.write(chunk.tostring('C'))\r\n",
      "\u001B[36m0xcg3amkmj-algo-1-brqfh |\u001B[0m /miniconda3/lib/python3.7/site-packages/sklearn/externals/joblib/numpy_pickle.py:104: DeprecationWarning: tostring() is deprecated. Use tobytes() instead.\r\n",
      "\u001B[36m0xcg3amkmj-algo-1-brqfh |\u001B[0m   pickler.file_handle.write(chunk.tostring('C'))\r\n",
      "\u001B[36m0xcg3amkmj-algo-1-brqfh |\u001B[0m /miniconda3/lib/python3.7/site-packages/sklearn/externals/joblib/numpy_pickle.py:104: DeprecationWarning: tostring() is deprecated. Use tobytes() instead.\r\n",
      "\u001B[36m0xcg3amkmj-algo-1-brqfh |\u001B[0m   pickler.file_handle.write(chunk.tostring('C'))\r\n",
      "\u001B[36m0xcg3amkmj-algo-1-brqfh |\u001B[0m /miniconda3/lib/python3.7/site-packages/sklearn/externals/joblib/numpy_pickle.py:104: DeprecationWarning: tostring() is deprecated. Use tobytes() instead.\r\n",
      "\u001B[36m0xcg3amkmj-algo-1-brqfh |\u001B[0m   pickler.file_handle.write(chunk.tostring('C'))\r\n",
      "\u001B[36m0xcg3amkmj-algo-1-brqfh |\u001B[0m /miniconda3/lib/python3.7/site-packages/sklearn/externals/joblib/numpy_pickle.py:104: DeprecationWarning: tostring() is deprecated. Use tobytes() instead.\r\n",
      "\u001B[36m0xcg3amkmj-algo-1-brqfh |\u001B[0m   pickler.file_handle.write(chunk.tostring('C'))\r\n",
      "\u001B[36m0xcg3amkmj-algo-1-brqfh |\u001B[0m /miniconda3/lib/python3.7/site-packages/sklearn/externals/joblib/numpy_pickle.py:104: DeprecationWarning: tostring() is deprecated. Use tobytes() instead.\r\n",
      "\u001B[36m0xcg3amkmj-algo-1-brqfh |\u001B[0m   pickler.file_handle.write(chunk.tostring('C'))\r\n",
      "\u001B[36m0xcg3amkmj-algo-1-brqfh |\u001B[0m /miniconda3/lib/python3.7/site-packages/sklearn/externals/joblib/numpy_pickle.py:104: DeprecationWarning: tostring() is deprecated. Use tobytes() instead.\r\n",
      "\u001B[36m0xcg3amkmj-algo-1-brqfh |\u001B[0m   pickler.file_handle.write(chunk.tostring('C'))\r\n",
      "\u001B[36m0xcg3amkmj-algo-1-brqfh |\u001B[0m /miniconda3/lib/python3.7/site-packages/sklearn/externals/joblib/numpy_pickle.py:104: DeprecationWarning: tostring() is deprecated. Use tobytes() instead.\r\n",
      "\u001B[36m0xcg3amkmj-algo-1-brqfh |\u001B[0m   pickler.file_handle.write(chunk.tostring('C'))\r\n",
      "\u001B[36m0xcg3amkmj-algo-1-brqfh |\u001B[0m /miniconda3/lib/python3.7/site-packages/sklearn/externals/joblib/numpy_pickle.py:104: DeprecationWarning: tostring() is deprecated. Use tobytes() instead.\r\n",
      "\u001B[36m0xcg3amkmj-algo-1-brqfh |\u001B[0m   pickler.file_handle.write(chunk.tostring('C'))\r\n",
      "\u001B[36m0xcg3amkmj-algo-1-brqfh |\u001B[0m /miniconda3/lib/python3.7/site-packages/sklearn/externals/joblib/numpy_pickle.py:104: DeprecationWarning: tostring() is deprecated. Use tobytes() instead.\r\n",
      "\u001B[36m0xcg3amkmj-algo-1-brqfh |\u001B[0m   pickler.file_handle.write(chunk.tostring('C'))\r\n",
      "\u001B[36m0xcg3amkmj-algo-1-brqfh |\u001B[0m /miniconda3/lib/python3.7/site-packages/sklearn/externals/joblib/numpy_pickle.py:104: DeprecationWarning: tostring() is deprecated. Use tobytes() instead.\r\n",
      "\u001B[36m0xcg3amkmj-algo-1-brqfh |\u001B[0m   pickler.file_handle.write(chunk.tostring('C'))\r\n",
      "\u001B[36m0xcg3amkmj-algo-1-brqfh |\u001B[0m /miniconda3/lib/python3.7/site-packages/sklearn/externals/joblib/numpy_pickle.py:104: DeprecationWarning: tostring() is deprecated. Use tobytes() instead.\r\n",
      "\u001B[36m0xcg3amkmj-algo-1-brqfh |\u001B[0m   pickler.file_handle.write(chunk.tostring('C'))\r\n",
      "\u001B[36m0xcg3amkmj-algo-1-brqfh |\u001B[0m /miniconda3/lib/python3.7/site-packages/sklearn/externals/joblib/numpy_pickle.py:104: DeprecationWarning: tostring() is deprecated. Use tobytes() instead.\r\n",
      "\u001B[36m0xcg3amkmj-algo-1-brqfh |\u001B[0m   pickler.file_handle.write(chunk.tostring('C'))\r\n",
      "\u001B[36m0xcg3amkmj-algo-1-brqfh |\u001B[0m /miniconda3/lib/python3.7/site-packages/sklearn/externals/joblib/numpy_pickle.py:104: DeprecationWarning: tostring() is deprecated. Use tobytes() instead.\r\n",
      "\u001B[36m0xcg3amkmj-algo-1-brqfh |\u001B[0m   pickler.file_handle.write(chunk.tostring('C'))\r\n",
      "\u001B[36m0xcg3amkmj-algo-1-brqfh |\u001B[0m /miniconda3/lib/python3.7/site-packages/sklearn/externals/joblib/numpy_pickle.py:104: DeprecationWarning: tostring() is deprecated. Use tobytes() instead.\r\n",
      "\u001B[36m0xcg3amkmj-algo-1-brqfh |\u001B[0m   pickler.file_handle.write(chunk.tostring('C'))\r\n",
      "\u001B[36m0xcg3amkmj-algo-1-brqfh |\u001B[0m /miniconda3/lib/python3.7/site-packages/sklearn/externals/joblib/numpy_pickle.py:104: DeprecationWarning: tostring() is deprecated. Use tobytes() instead.\r\n",
      "\u001B[36m0xcg3amkmj-algo-1-brqfh |\u001B[0m   pickler.file_handle.write(chunk.tostring('C'))\r\n",
      "\u001B[36m0xcg3amkmj-algo-1-brqfh |\u001B[0m /miniconda3/lib/python3.7/site-packages/sklearn/externals/joblib/numpy_pickle.py:104: DeprecationWarning: tostring() is deprecated. Use tobytes() instead.\r\n",
      "\u001B[36m0xcg3amkmj-algo-1-brqfh |\u001B[0m   pickler.file_handle.write(chunk.tostring('C'))\r\n",
      "\u001B[36m0xcg3amkmj-algo-1-brqfh |\u001B[0m /miniconda3/lib/python3.7/site-packages/sklearn/externals/joblib/numpy_pickle.py:104: DeprecationWarning: tostring() is deprecated. Use tobytes() instead.\r\n",
      "\u001B[36m0xcg3amkmj-algo-1-brqfh |\u001B[0m   pickler.file_handle.write(chunk.tostring('C'))\r\n",
      "\u001B[36m0xcg3amkmj-algo-1-brqfh |\u001B[0m /miniconda3/lib/python3.7/site-packages/sklearn/externals/joblib/numpy_pickle.py:104: DeprecationWarning: tostring() is deprecated. Use tobytes() instead.\r\n",
      "\u001B[36m0xcg3amkmj-algo-1-brqfh |\u001B[0m   pickler.file_handle.write(chunk.tostring('C'))\r\n",
      "\u001B[36m0xcg3amkmj-algo-1-brqfh |\u001B[0m /miniconda3/lib/python3.7/site-packages/sklearn/externals/joblib/numpy_pickle.py:104: DeprecationWarning: tostring() is deprecated. Use tobytes() instead.\r\n",
      "\u001B[36m0xcg3amkmj-algo-1-brqfh |\u001B[0m   pickler.file_handle.write(chunk.tostring('C'))\r\n",
      "\u001B[36m0xcg3amkmj-algo-1-brqfh |\u001B[0m /miniconda3/lib/python3.7/site-packages/sklearn/externals/joblib/numpy_pickle.py:104: DeprecationWarning: tostring() is deprecated. Use tobytes() instead.\r\n",
      "\u001B[36m0xcg3amkmj-algo-1-brqfh |\u001B[0m   pickler.file_handle.write(chunk.tostring('C'))\r\n",
      "\u001B[36m0xcg3amkmj-algo-1-brqfh |\u001B[0m /miniconda3/lib/python3.7/site-packages/sklearn/externals/joblib/numpy_pickle.py:104: DeprecationWarning: tostring() is deprecated. Use tobytes() instead.\r\n",
      "\u001B[36m0xcg3amkmj-algo-1-brqfh |\u001B[0m   pickler.file_handle.write(chunk.tostring('C'))\r\n",
      "\u001B[36m0xcg3amkmj-algo-1-brqfh |\u001B[0m /miniconda3/lib/python3.7/site-packages/sklearn/externals/joblib/numpy_pickle.py:104: DeprecationWarning: tostring() is deprecated. Use tobytes() instead.\r\n",
      "\u001B[36m0xcg3amkmj-algo-1-brqfh |\u001B[0m   pickler.file_handle.write(chunk.tostring('C'))\r\n",
      "\u001B[36m0xcg3amkmj-algo-1-brqfh |\u001B[0m /miniconda3/lib/python3.7/site-packages/sklearn/externals/joblib/numpy_pickle.py:104: DeprecationWarning: tostring() is deprecated. Use tobytes() instead.\r\n",
      "\u001B[36m0xcg3amkmj-algo-1-brqfh |\u001B[0m   pickler.file_handle.write(chunk.tostring('C'))\r\n",
      "\u001B[36m0xcg3amkmj-algo-1-brqfh |\u001B[0m /miniconda3/lib/python3.7/site-packages/sklearn/externals/joblib/numpy_pickle.py:104: DeprecationWarning: tostring() is deprecated. Use tobytes() instead.\r\n",
      "\u001B[36m0xcg3amkmj-algo-1-brqfh |\u001B[0m   pickler.file_handle.write(chunk.tostring('C'))\r\n",
      "\u001B[36m0xcg3amkmj-algo-1-brqfh |\u001B[0m /miniconda3/lib/python3.7/site-packages/sklearn/externals/joblib/numpy_pickle.py:104: DeprecationWarning: tostring() is deprecated. Use tobytes() instead.\r\n",
      "\u001B[36m0xcg3amkmj-algo-1-brqfh |\u001B[0m   pickler.file_handle.write(chunk.tostring('C'))\r\n",
      "\u001B[36m0xcg3amkmj-algo-1-brqfh |\u001B[0m /miniconda3/lib/python3.7/site-packages/sklearn/externals/joblib/numpy_pickle.py:104: DeprecationWarning: tostring() is deprecated. Use tobytes() instead.\r\n",
      "\u001B[36m0xcg3amkmj-algo-1-brqfh |\u001B[0m   pickler.file_handle.write(chunk.tostring('C'))\r\n",
      "\u001B[36m0xcg3amkmj-algo-1-brqfh |\u001B[0m /miniconda3/lib/python3.7/site-packages/sklearn/externals/joblib/numpy_pickle.py:104: DeprecationWarning: tostring() is deprecated. Use tobytes() instead.\r\n",
      "\u001B[36m0xcg3amkmj-algo-1-brqfh |\u001B[0m   pickler.file_handle.write(chunk.tostring('C'))\r\n",
      "\u001B[36m0xcg3amkmj-algo-1-brqfh |\u001B[0m /miniconda3/lib/python3.7/site-packages/sklearn/externals/joblib/numpy_pickle.py:104: DeprecationWarning: tostring() is deprecated. Use tobytes() instead.\r\n",
      "\u001B[36m0xcg3amkmj-algo-1-brqfh |\u001B[0m   pickler.file_handle.write(chunk.tostring('C'))\r\n",
      "\u001B[36m0xcg3amkmj-algo-1-brqfh |\u001B[0m 2022-08-02 07:56:11,991 sagemaker-containers INFO     Reporting training SUCCESS\r\n",
      "\u001B[36m0xcg3amkmj-algo-1-brqfh exited with code 0\n",
      "\u001B[0mAborting on container exit...\n",
      "===== Job Complete =====\n"
     ]
    }
   ],
   "source": [
    "estimator.fit({'training':training_data_uri,'testing':testing_data_uri})"
   ]
  },
  {
   "cell_type": "code",
   "execution_count": 21,
   "metadata": {},
   "outputs": [
    {
     "data": {
      "text/plain": [
       "'sklearn-iris-2022-08-02-07-56-07-867'"
      ]
     },
     "execution_count": 21,
     "metadata": {},
     "output_type": "execute_result"
    }
   ],
   "source": [
    "estimator.latest_training_job.job_name"
   ]
  },
  {
   "cell_type": "code",
   "execution_count": 22,
   "metadata": {},
   "outputs": [
    {
     "data": {
      "text/plain": [
       "'s3://radcv-ml-sagemaker/iris/model/sklearn-iris-2022-08-02-07-56-07-867/model.tar.gz'"
      ]
     },
     "execution_count": 22,
     "metadata": {},
     "output_type": "execute_result"
    }
   ],
   "source": [
    "estimator.model_data"
   ]
  },
  {
   "cell_type": "markdown",
   "metadata": {},
   "source": [
    "## Using the trained model to make inference requests <a class=\"anchor\" id=\"inference\"></a>\n",
    "\n",
    "### Deploy the model <a class=\"anchor\" id=\"deploy\"></a>\n",
    "\n",
    "Deploying the model to SageMaker hosting just requires a `deploy` call on the fitted model. This call takes an instance count and instance type."
   ]
  },
  {
   "cell_type": "code",
   "execution_count": 23,
   "metadata": {},
   "outputs": [
    {
     "name": "stdout",
     "output_type": "stream",
     "text": [
      "Attaching to r19wi710i0-algo-1-w1ewd\n",
      "\u001B[36mr19wi710i0-algo-1-w1ewd |\u001B[0m Processing /opt/ml/code\n",
      "\u001B[36mr19wi710i0-algo-1-w1ewd |\u001B[0m \u001B[33m  DEPRECATION: A future pip version will change local packages to be built in-place without first copying to a temporary directory. We recommend you use --use-feature=in-tree-build to test your packages with this new behavior before it becomes the default.\n",
      "\u001B[36mr19wi710i0-algo-1-w1ewd |\u001B[0m    pip 21.3 will remove support for this functionality. You can find discussion regarding this at https://github.com/pypa/pip/issues/7555.\u001B[0m\n",
      "\u001B[36mr19wi710i0-algo-1-w1ewd |\u001B[0m Building wheels for collected packages: scikit-learn-iris\n",
      "\u001B[36mr19wi710i0-algo-1-w1ewd |\u001B[0m   Building wheel for scikit-learn-iris (setup.py) ... \u001B[?25ldone\n",
      "\u001B[36mr19wi710i0-algo-1-w1ewd |\u001B[0m \u001B[?25h  Created wheel for scikit-learn-iris: filename=scikit_learn_iris-1.0.0-py2.py3-none-any.whl size=6119 sha256=a0380df45fbbc3f274008eae8d1e2e05dcb4266a2e9b77534d6c60adf2e9a76d\n",
      "\u001B[36mr19wi710i0-algo-1-w1ewd |\u001B[0m   Stored in directory: /tmp/pip-ephem-wheel-cache-qx4_kahw/wheels/3e/0f/51/2f1df833dd0412c1bc2f5ee56baac195b5be563353d111dca6\n",
      "\u001B[36mr19wi710i0-algo-1-w1ewd |\u001B[0m Successfully built scikit-learn-iris\n",
      "\u001B[36mr19wi710i0-algo-1-w1ewd |\u001B[0m Installing collected packages: scikit-learn-iris\n",
      "\u001B[36mr19wi710i0-algo-1-w1ewd |\u001B[0m Successfully installed scikit-learn-iris-1.0.0\n",
      "\u001B[36mr19wi710i0-algo-1-w1ewd |\u001B[0m \u001B[33mWARNING: Running pip as the 'root' user can result in broken permissions and conflicting behaviour with the system package manager. It is recommended to use a virtual environment instead: https://pip.pypa.io/warnings/venv\u001B[0m\n",
      "\u001B[36mr19wi710i0-algo-1-w1ewd |\u001B[0m /miniconda3/lib/python3.7/site-packages/sklearn/externals/joblib/externals/cloudpickle/cloudpickle.py:47: DeprecationWarning: the imp module is deprecated in favour of importlib; see the module's documentation for alternative uses\n",
      "\u001B[36mr19wi710i0-algo-1-w1ewd |\u001B[0m   import imp\n",
      "\u001B[36mr19wi710i0-algo-1-w1ewd |\u001B[0m [2022-08-02 07:56:40 +0000] [37] [INFO] Starting gunicorn 20.1.0\n",
      "\u001B[36mr19wi710i0-algo-1-w1ewd |\u001B[0m [2022-08-02 07:56:40 +0000] [37] [INFO] Listening at: unix:/tmp/gunicorn.sock (37)\n",
      "\u001B[36mr19wi710i0-algo-1-w1ewd |\u001B[0m [2022-08-02 07:56:40 +0000] [37] [INFO] Using worker: gevent\n",
      "\u001B[36mr19wi710i0-algo-1-w1ewd |\u001B[0m [2022-08-02 07:56:40 +0000] [40] [INFO] Booting worker with pid: 40\n",
      "\u001B[36mr19wi710i0-algo-1-w1ewd |\u001B[0m [2022-08-02 07:56:40 +0000] [41] [INFO] Booting worker with pid: 41\n",
      "\u001B[36mr19wi710i0-algo-1-w1ewd |\u001B[0m [2022-08-02 07:56:40 +0000] [45] [INFO] Booting worker with pid: 45\n",
      "\u001B[36mr19wi710i0-algo-1-w1ewd |\u001B[0m [2022-08-02 07:56:41 +0000] [49] [INFO] Booting worker with pid: 49\n",
      "\u001B[36mr19wi710i0-algo-1-w1ewd |\u001B[0m 2022-08-02 07:56:41,535 INFO - sagemaker-containers - No GPUs detected (normal if no gpus installed)\n",
      "\u001B[36mr19wi710i0-algo-1-w1ewd |\u001B[0m /miniconda3/lib/python3.7/site-packages/sklearn/externals/joblib/externals/cloudpickle/cloudpickle.py:47: DeprecationWarning: the imp module is deprecated in favour of importlib; see the module's documentation for alternative uses\n",
      "\u001B[36mr19wi710i0-algo-1-w1ewd |\u001B[0m   import imp\n",
      "!\u001B[36mr19wi710i0-algo-1-w1ewd |\u001B[0m 172.18.0.1 - - [02/Aug/2022:07:56:42 +0000] \"GET /ping HTTP/1.1\" 200 0 \"-\" \"python-urllib3/1.26.8\"\n"
     ]
    }
   ],
   "source": [
    "predictor = estimator.deploy(initial_instance_count=1, \n",
    "                           instance_type=instance_type)"
   ]
  },
  {
   "cell_type": "markdown",
   "metadata": {},
   "source": [
    "### Choose some data and use it for a prediction <a class=\"anchor\" id=\"prediction_request\"></a>\n",
    "\n",
    "In order to do some predictions, we'll extract some of the data we used for training and do predictions against it. This is, of course, bad statistical practice, but a good way to see how the mechanism works."
   ]
  },
  {
   "cell_type": "code",
   "execution_count": 24,
   "metadata": {},
   "outputs": [],
   "source": [
    "df = pd.read_csv(test_file, names=columns)"
   ]
  },
  {
   "cell_type": "code",
   "execution_count": 25,
   "metadata": {},
   "outputs": [],
   "source": [
    "from sklearn import preprocessing\n",
    "from sklearn.metrics import classification_report, confusion_matrix"
   ]
  },
  {
   "cell_type": "code",
   "execution_count": 26,
   "metadata": {},
   "outputs": [
    {
     "data": {
      "text/plain": [
       "LabelEncoder()"
      ]
     },
     "execution_count": 26,
     "metadata": {},
     "output_type": "execute_result"
    }
   ],
   "source": [
    "# Encode Class Labels to integers\n",
    "# Labeled Classes\n",
    "labels=[0,1,2]\n",
    "classes = ['Iris-setosa', 'Iris-versicolor', 'Iris-virginica']\n",
    "le = preprocessing.LabelEncoder()\n",
    "le.fit(classes)"
   ]
  },
  {
   "cell_type": "code",
   "execution_count": 27,
   "metadata": {},
   "outputs": [
    {
     "data": {
      "text/html": [
       "<div>\n",
       "<style scoped>\n",
       "    .dataframe tbody tr th:only-of-type {\n",
       "        vertical-align: middle;\n",
       "    }\n",
       "\n",
       "    .dataframe tbody tr th {\n",
       "        vertical-align: top;\n",
       "    }\n",
       "\n",
       "    .dataframe thead th {\n",
       "        text-align: right;\n",
       "    }\n",
       "</style>\n",
       "<table border=\"1\" class=\"dataframe\">\n",
       "  <thead>\n",
       "    <tr style=\"text-align: right;\">\n",
       "      <th></th>\n",
       "      <th>encoded_class</th>\n",
       "      <th>sepal_length</th>\n",
       "      <th>sepal_width</th>\n",
       "      <th>petal_length</th>\n",
       "      <th>petal_width</th>\n",
       "    </tr>\n",
       "  </thead>\n",
       "  <tbody>\n",
       "    <tr>\n",
       "      <th>0</th>\n",
       "      <td>1</td>\n",
       "      <td>5.8</td>\n",
       "      <td>2.7</td>\n",
       "      <td>4.1</td>\n",
       "      <td>1.0</td>\n",
       "    </tr>\n",
       "    <tr>\n",
       "      <th>1</th>\n",
       "      <td>0</td>\n",
       "      <td>4.8</td>\n",
       "      <td>3.4</td>\n",
       "      <td>1.6</td>\n",
       "      <td>0.2</td>\n",
       "    </tr>\n",
       "    <tr>\n",
       "      <th>2</th>\n",
       "      <td>1</td>\n",
       "      <td>6.0</td>\n",
       "      <td>2.2</td>\n",
       "      <td>4.0</td>\n",
       "      <td>1.0</td>\n",
       "    </tr>\n",
       "    <tr>\n",
       "      <th>3</th>\n",
       "      <td>2</td>\n",
       "      <td>6.4</td>\n",
       "      <td>3.1</td>\n",
       "      <td>5.5</td>\n",
       "      <td>1.8</td>\n",
       "    </tr>\n",
       "    <tr>\n",
       "      <th>4</th>\n",
       "      <td>2</td>\n",
       "      <td>6.7</td>\n",
       "      <td>2.5</td>\n",
       "      <td>5.8</td>\n",
       "      <td>1.8</td>\n",
       "    </tr>\n",
       "  </tbody>\n",
       "</table>\n",
       "</div>"
      ],
      "text/plain": [
       "   encoded_class  sepal_length  sepal_width  petal_length  petal_width\n",
       "0              1           5.8          2.7           4.1          1.0\n",
       "1              0           4.8          3.4           1.6          0.2\n",
       "2              1           6.0          2.2           4.0          1.0\n",
       "3              2           6.4          3.1           5.5          1.8\n",
       "4              2           6.7          2.5           5.8          1.8"
      ]
     },
     "execution_count": 27,
     "metadata": {},
     "output_type": "execute_result"
    }
   ],
   "source": [
    "df.head()"
   ]
  },
  {
   "cell_type": "code",
   "execution_count": 28,
   "metadata": {},
   "outputs": [
    {
     "name": "stdout",
     "output_type": "stream",
     "text": [
      "   sepal_length  sepal_width  petal_length  petal_width\n",
      "0           5.8          2.7           4.1          1.0\n",
      "1           4.8          3.4           1.6          0.2\n",
      "2           6.0          2.2           4.0          1.0\n",
      "3           6.4          3.1           5.5          1.8\n",
      "4           6.7          2.5           5.8          1.8\n"
     ]
    }
   ],
   "source": [
    "X_test = df.iloc[:,1:]\n",
    "print(X_test[:5])"
   ]
  },
  {
   "cell_type": "code",
   "execution_count": 29,
   "metadata": {},
   "outputs": [
    {
     "name": "stdout",
     "output_type": "stream",
     "text": [
      "\u001B[36mr19wi710i0-algo-1-w1ewd |\u001B[0m 172.18.0.1 - - [02/Aug/2022:08:03:26 +0000] \"POST /invocations HTTP/1.1\" 200 488 \"-\" \"python-urllib3/1.26.8\"\r\n"
     ]
    }
   ],
   "source": [
    "result = predictor.predict(X_test)"
   ]
  },
  {
   "cell_type": "code",
   "execution_count": 30,
   "metadata": {},
   "outputs": [
    {
     "data": {
      "text/plain": [
       "array([1, 0, 1, 2, 2, 2, 2, 0, 0, 2, 2, 0, 1, 0, 0, 2, 1, 2, 0, 2, 0, 2,\n",
       "       0, 1, 0, 2, 2, 0, 1, 2, 2, 1, 0, 1, 0, 0, 1, 2, 0, 2, 0, 1, 2, 2,\n",
       "       1])"
      ]
     },
     "execution_count": 30,
     "metadata": {},
     "output_type": "execute_result"
    }
   ],
   "source": [
    "result"
   ]
  },
  {
   "cell_type": "code",
   "execution_count": 31,
   "metadata": {},
   "outputs": [],
   "source": [
    "df['predicted_class'] = result"
   ]
  },
  {
   "cell_type": "code",
   "execution_count": 32,
   "metadata": {},
   "outputs": [
    {
     "data": {
      "text/html": [
       "<div>\n",
       "<style scoped>\n",
       "    .dataframe tbody tr th:only-of-type {\n",
       "        vertical-align: middle;\n",
       "    }\n",
       "\n",
       "    .dataframe tbody tr th {\n",
       "        vertical-align: top;\n",
       "    }\n",
       "\n",
       "    .dataframe thead th {\n",
       "        text-align: right;\n",
       "    }\n",
       "</style>\n",
       "<table border=\"1\" class=\"dataframe\">\n",
       "  <thead>\n",
       "    <tr style=\"text-align: right;\">\n",
       "      <th></th>\n",
       "      <th>encoded_class</th>\n",
       "      <th>sepal_length</th>\n",
       "      <th>sepal_width</th>\n",
       "      <th>petal_length</th>\n",
       "      <th>petal_width</th>\n",
       "      <th>predicted_class</th>\n",
       "    </tr>\n",
       "  </thead>\n",
       "  <tbody>\n",
       "    <tr>\n",
       "      <th>0</th>\n",
       "      <td>1</td>\n",
       "      <td>5.8</td>\n",
       "      <td>2.7</td>\n",
       "      <td>4.1</td>\n",
       "      <td>1.0</td>\n",
       "      <td>1</td>\n",
       "    </tr>\n",
       "    <tr>\n",
       "      <th>1</th>\n",
       "      <td>0</td>\n",
       "      <td>4.8</td>\n",
       "      <td>3.4</td>\n",
       "      <td>1.6</td>\n",
       "      <td>0.2</td>\n",
       "      <td>0</td>\n",
       "    </tr>\n",
       "    <tr>\n",
       "      <th>2</th>\n",
       "      <td>1</td>\n",
       "      <td>6.0</td>\n",
       "      <td>2.2</td>\n",
       "      <td>4.0</td>\n",
       "      <td>1.0</td>\n",
       "      <td>1</td>\n",
       "    </tr>\n",
       "    <tr>\n",
       "      <th>3</th>\n",
       "      <td>2</td>\n",
       "      <td>6.4</td>\n",
       "      <td>3.1</td>\n",
       "      <td>5.5</td>\n",
       "      <td>1.8</td>\n",
       "      <td>2</td>\n",
       "    </tr>\n",
       "    <tr>\n",
       "      <th>4</th>\n",
       "      <td>2</td>\n",
       "      <td>6.7</td>\n",
       "      <td>2.5</td>\n",
       "      <td>5.8</td>\n",
       "      <td>1.8</td>\n",
       "      <td>2</td>\n",
       "    </tr>\n",
       "  </tbody>\n",
       "</table>\n",
       "</div>"
      ],
      "text/plain": [
       "   encoded_class  sepal_length  sepal_width  petal_length  petal_width  \\\n",
       "0              1           5.8          2.7           4.1          1.0   \n",
       "1              0           4.8          3.4           1.6          0.2   \n",
       "2              1           6.0          2.2           4.0          1.0   \n",
       "3              2           6.4          3.1           5.5          1.8   \n",
       "4              2           6.7          2.5           5.8          1.8   \n",
       "\n",
       "   predicted_class  \n",
       "0                1  \n",
       "1                0  \n",
       "2                1  \n",
       "3                2  \n",
       "4                2  "
      ]
     },
     "execution_count": 32,
     "metadata": {},
     "output_type": "execute_result"
    }
   ],
   "source": [
    "df.head()"
   ]
  },
  {
   "cell_type": "markdown",
   "metadata": {},
   "source": [
    "<h2>Confusion Matrix</h2>\n",
    "Confusion Matrix is a table that summarizes performance of classification model.<br><br>"
   ]
  },
  {
   "cell_type": "code",
   "execution_count": 33,
   "metadata": {},
   "outputs": [],
   "source": [
    "# Reference: \n",
    "# https://scikit-learn.org/stable/auto_examples/model_selection/plot_confusion_matrix.html\n",
    "def plot_confusion_matrix(cm, classes,\n",
    "                          normalize=False,\n",
    "                          title='Confusion matrix',\n",
    "                          cmap=plt.cm.Blues):\n",
    "    \"\"\"\n",
    "    This function prints and plots the confusion matrix.\n",
    "    Normalization can be applied by setting `normalize=True`.\n",
    "    \"\"\"\n",
    "    if normalize:\n",
    "        cm = cm.astype('float') / cm.sum(axis=1)[:, np.newaxis]\n",
    "        #print(\"Normalized confusion matrix\")\n",
    "    #else:\n",
    "    #    print('Confusion matrix, without normalization')\n",
    "\n",
    "    #print(cm)\n",
    "\n",
    "    plt.imshow(cm, interpolation='nearest', cmap=cmap)\n",
    "    plt.title(title)\n",
    "    plt.colorbar()\n",
    "    tick_marks = np.arange(len(classes))\n",
    "    plt.xticks(tick_marks, classes, rotation=45)\n",
    "    plt.yticks(tick_marks, classes)\n",
    "\n",
    "    fmt = '.2f' if normalize else 'd'\n",
    "    thresh = cm.max() / 2.\n",
    "    for i, j in itertools.product(range(cm.shape[0]), range(cm.shape[1])):\n",
    "        plt.text(j, i, format(cm[i, j], fmt),\n",
    "                 horizontalalignment=\"center\",\n",
    "                 color=\"white\" if cm[i, j] > thresh else \"black\")\n",
    "\n",
    "    plt.ylabel('True label')\n",
    "    plt.xlabel('Predicted label')\n",
    "    plt.tight_layout()"
   ]
  },
  {
   "cell_type": "code",
   "execution_count": 34,
   "metadata": {},
   "outputs": [],
   "source": [
    "# Compute confusion matrix\n",
    "cnf_matrix = confusion_matrix(df['encoded_class'],\n",
    "                              df['predicted_class'],labels=labels)"
   ]
  },
  {
   "cell_type": "code",
   "execution_count": 35,
   "metadata": {},
   "outputs": [
    {
     "data": {
      "text/plain": [
       "array([[16,  0,  0],\n",
       "       [ 0, 10,  1],\n",
       "       [ 0,  1, 17]])"
      ]
     },
     "execution_count": 35,
     "metadata": {},
     "output_type": "execute_result"
    }
   ],
   "source": [
    "cnf_matrix"
   ]
  },
  {
   "cell_type": "code",
   "execution_count": 36,
   "metadata": {},
   "outputs": [
    {
     "data": {
      "image/png": "[encoded data removed]",
      "text/plain": [
       "<Figure size 432x288 with 2 Axes>"
      ]
     },
     "metadata": {
      "needs_background": "light"
     },
     "output_type": "display_data"
    }
   ],
   "source": [
    "# Plot confusion matrix\n",
    "plt.figure()\n",
    "plot_confusion_matrix(cnf_matrix, classes=classes,\n",
    "                      title='Confusion matrix - Count')"
   ]
  },
  {
   "cell_type": "code",
   "execution_count": 37,
   "metadata": {},
   "outputs": [
    {
     "data": {
      "image/png": "[encoded data removed]",
      "text/plain": [
       "<Figure size 432x288 with 2 Axes>"
      ]
     },
     "metadata": {
      "needs_background": "light"
     },
     "output_type": "display_data"
    }
   ],
   "source": [
    "# Plot confusion matrix\n",
    "plt.figure()\n",
    "plot_confusion_matrix(cnf_matrix, classes=classes,\n",
    "                      title='Confusion matrix - Count',normalize=True)"
   ]
  },
  {
   "cell_type": "code",
   "execution_count": 38,
   "metadata": {},
   "outputs": [
    {
     "name": "stdout",
     "output_type": "stream",
     "text": [
      "                 precision    recall  f1-score   support\n",
      "\n",
      "    Iris-setosa       1.00      1.00      1.00        16\n",
      "Iris-versicolor       0.91      0.91      0.91        11\n",
      " Iris-virginica       0.94      0.94      0.94        18\n",
      "\n",
      "       accuracy                           0.96        45\n",
      "      macro avg       0.95      0.95      0.95        45\n",
      "   weighted avg       0.96      0.96      0.96        45\n",
      "\n"
     ]
    }
   ],
   "source": [
    "print(classification_report(\n",
    "    df['encoded_class'],\n",
    "    df['predicted_class'],\n",
    "    labels=labels,\n",
    "    target_names=classes))"
   ]
  },
  {
   "cell_type": "markdown",
   "metadata": {},
   "source": [
    "### Endpoint cleanup <a class=\"anchor\" id=\"endpoint_cleanup\"></a>\n",
    "\n",
    "When you're done with the endpoint, you'll want to clean it up."
   ]
  },
  {
   "cell_type": "code",
   "execution_count": 39,
   "metadata": {},
   "outputs": [
    {
     "name": "stdout",
     "output_type": "stream",
     "text": [
      "Gracefully stopping... (press Ctrl+C again to force)\n"
     ]
    }
   ],
   "source": [
    "# SDK 2\n",
    "predictor.delete_endpoint()"
   ]
  },
  {
   "cell_type": "markdown",
   "metadata": {},
   "source": [
    "## Another way to deploy endpoint\n",
    "## Using trained model artifacts\n",
    "https://sagemaker.readthedocs.io/en/stable/sagemaker.sklearn.html#scikit-learn-predictor\n",
    "https://sagemaker.readthedocs.io/en/stable/using_sklearn.html#working-with-existing-model-data-and-training-jobs"
   ]
  },
  {
   "cell_type": "code",
   "execution_count": 40,
   "metadata": {},
   "outputs": [],
   "source": [
    "model_data = estimator.model_data"
   ]
  },
  {
   "cell_type": "code",
   "execution_count": 41,
   "metadata": {},
   "outputs": [
    {
     "data": {
      "text/plain": [
       "'s3://radcv-ml-sagemaker/iris/model/sklearn-iris-2022-08-02-07-56-07-867/model.tar.gz'"
      ]
     },
     "execution_count": 41,
     "metadata": {},
     "output_type": "execute_result"
    }
   ],
   "source": [
    "model_data"
   ]
  },
  {
   "cell_type": "code",
   "execution_count": 42,
   "metadata": {},
   "outputs": [],
   "source": [
    "import sagemaker.sklearn\n",
    "\n",
    "model = sagemaker.sklearn.model.SKLearnModel(model_data=model_data,\n",
    "                                             role=role, entry_point='scikit_learn_iris.py',\n",
    "                                             framework_version = \"0.20.0\",\n",
    "                                             py_version = 'py3')"
   ]
  },
  {
   "cell_type": "code",
   "execution_count": 43,
   "metadata": {},
   "outputs": [
    {
     "name": "stdout",
     "output_type": "stream",
     "text": [
      "Attaching to 98xh143lt6-algo-1-hdbt9\n",
      "\u001B[36m98xh143lt6-algo-1-hdbt9 |\u001B[0m Processing /opt/ml/code\n",
      "\u001B[36m98xh143lt6-algo-1-hdbt9 |\u001B[0m \u001B[33m  DEPRECATION: A future pip version will change local packages to be built in-place without first copying to a temporary directory. We recommend you use --use-feature=in-tree-build to test your packages with this new behavior before it becomes the default.\n",
      "\u001B[36m98xh143lt6-algo-1-hdbt9 |\u001B[0m    pip 21.3 will remove support for this functionality. You can find discussion regarding this at https://github.com/pypa/pip/issues/7555.\u001B[0m\n",
      "\u001B[36m98xh143lt6-algo-1-hdbt9 |\u001B[0m Building wheels for collected packages: scikit-learn-iris\n",
      "\u001B[36m98xh143lt6-algo-1-hdbt9 |\u001B[0m   Building wheel for scikit-learn-iris (setup.py) ... \u001B[?25ldone\n",
      "\u001B[36m98xh143lt6-algo-1-hdbt9 |\u001B[0m \u001B[?25h  Created wheel for scikit-learn-iris: filename=scikit_learn_iris-1.0.0-py2.py3-none-any.whl size=6119 sha256=da87e8217aecd5ce7aa8e41c4e772507a9c447eb65df589afd9d0644c37dd6ae\n",
      "\u001B[36m98xh143lt6-algo-1-hdbt9 |\u001B[0m   Stored in directory: /tmp/pip-ephem-wheel-cache-94j9_zs0/wheels/3e/0f/51/2f1df833dd0412c1bc2f5ee56baac195b5be563353d111dca6\n",
      "\u001B[36m98xh143lt6-algo-1-hdbt9 |\u001B[0m Successfully built scikit-learn-iris\n",
      "\u001B[36m98xh143lt6-algo-1-hdbt9 |\u001B[0m Installing collected packages: scikit-learn-iris\n",
      "\u001B[36m98xh143lt6-algo-1-hdbt9 |\u001B[0m Successfully installed scikit-learn-iris-1.0.0\n",
      "\u001B[36m98xh143lt6-algo-1-hdbt9 |\u001B[0m \u001B[33mWARNING: Running pip as the 'root' user can result in broken permissions and conflicting behaviour with the system package manager. It is recommended to use a virtual environment instead: https://pip.pypa.io/warnings/venv\u001B[0m\n",
      "\u001B[36m98xh143lt6-algo-1-hdbt9 |\u001B[0m /miniconda3/lib/python3.7/site-packages/sklearn/externals/joblib/externals/cloudpickle/cloudpickle.py:47: DeprecationWarning: the imp module is deprecated in favour of importlib; see the module's documentation for alternative uses\n",
      "\u001B[36m98xh143lt6-algo-1-hdbt9 |\u001B[0m   import imp\n",
      "\u001B[36m98xh143lt6-algo-1-hdbt9 |\u001B[0m [2022-08-02 08:10:15 +0000] [37] [INFO] Starting gunicorn 20.1.0\n",
      "\u001B[36m98xh143lt6-algo-1-hdbt9 |\u001B[0m [2022-08-02 08:10:15 +0000] [37] [INFO] Listening at: unix:/tmp/gunicorn.sock (37)\n",
      "\u001B[36m98xh143lt6-algo-1-hdbt9 |\u001B[0m [2022-08-02 08:10:15 +0000] [37] [INFO] Using worker: gevent\n",
      "\u001B[36m98xh143lt6-algo-1-hdbt9 |\u001B[0m [2022-08-02 08:10:15 +0000] [40] [INFO] Booting worker with pid: 40\n",
      "\u001B[36m98xh143lt6-algo-1-hdbt9 |\u001B[0m [2022-08-02 08:10:15 +0000] [41] [INFO] Booting worker with pid: 41\n",
      "\u001B[36m98xh143lt6-algo-1-hdbt9 |\u001B[0m [2022-08-02 08:10:15 +0000] [42] [INFO] Booting worker with pid: 42\n",
      "\u001B[36m98xh143lt6-algo-1-hdbt9 |\u001B[0m [2022-08-02 08:10:15 +0000] [46] [INFO] Booting worker with pid: 46\n",
      "\u001B[36m98xh143lt6-algo-1-hdbt9 |\u001B[0m 2022-08-02 08:10:16,059 INFO - sagemaker-containers - No GPUs detected (normal if no gpus installed)\n",
      "\u001B[36m98xh143lt6-algo-1-hdbt9 |\u001B[0m /miniconda3/lib/python3.7/site-packages/sklearn/externals/joblib/externals/cloudpickle/cloudpickle.py:47: DeprecationWarning: the imp module is deprecated in favour of importlib; see the module's documentation for alternative uses\n",
      "\u001B[36m98xh143lt6-algo-1-hdbt9 |\u001B[0m   import imp\n",
      "!\u001B[36m98xh143lt6-algo-1-hdbt9 |\u001B[0m 172.18.0.1 - - [02/Aug/2022:08:10:16 +0000] \"GET /ping HTTP/1.1\" 200 0 \"-\" \"python-urllib3/1.26.8\"\n"
     ]
    }
   ],
   "source": [
    "predictor_2 = model.deploy(initial_instance_count=1, instance_type=instance_type)"
   ]
  },
  {
   "cell_type": "code",
   "execution_count": 44,
   "metadata": {},
   "outputs": [
    {
     "name": "stdout",
     "output_type": "stream",
     "text": [
      "\u001B[36m98xh143lt6-algo-1-hdbt9 |\u001B[0m 2022-08-02 08:10:23,288 INFO - sagemaker-containers - No GPUs detected (normal if no gpus installed)\n",
      "\u001B[36m98xh143lt6-algo-1-hdbt9 |\u001B[0m /miniconda3/lib/python3.7/site-packages/sklearn/externals/joblib/externals/cloudpickle/cloudpickle.py:47: DeprecationWarning: the imp module is deprecated in favour of importlib; see the module's documentation for alternative uses\n",
      "\u001B[36m98xh143lt6-algo-1-hdbt9 |\u001B[0m   import imp\n"
     ]
    },
    {
     "data": {
      "text/plain": [
       "array([1, 0, 1, 2, 2])"
      ]
     },
     "execution_count": 44,
     "metadata": {},
     "output_type": "execute_result"
    },
    {
     "name": "stdout",
     "output_type": "stream",
     "text": [
      "\u001B[36m98xh143lt6-algo-1-hdbt9 |\u001B[0m 172.18.0.1 - - [02/Aug/2022:08:10:24 +0000] \"POST /invocations HTTP/1.1\" 200 168 \"-\" \"python-urllib3/1.26.8\"\r\n"
     ]
    }
   ],
   "source": [
    "predictor_2.predict(X_test[:5])"
   ]
  },
  {
   "cell_type": "code",
   "execution_count": 45,
   "metadata": {},
   "outputs": [
    {
     "name": "stdout",
     "output_type": "stream",
     "text": [
      "Gracefully stopping... (press Ctrl+C again to force)\n"
     ]
    }
   ],
   "source": [
    "predictor_2.delete_endpoint()"
   ]
  },
  {
   "cell_type": "code",
   "execution_count": null,
   "metadata": {},
   "outputs": [],
   "source": []
  }
 ],
 "metadata": {
  "kernelspec": {
   "display_name": "conda_python3",
   "language": "python",
   "name": "conda_python3"
  },
  "language_info": {
   "codemirror_mode": {
    "name": "ipython",
    "version": 3
   },
   "file_extension": ".py",
   "mimetype": "text/x-python",
   "name": "python",
   "nbconvert_exporter": "python",
   "pygments_lexer": "ipython3",
   "version": "3.6.13"
  }
 },
 "nbformat": 4,
 "nbformat_minor": 2
}